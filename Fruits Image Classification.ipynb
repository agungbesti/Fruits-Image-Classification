{
 "cells": [
  {
   "cell_type": "markdown",
   "metadata": {
    "id": "rCwT_o9myQG1"
   },
   "source": [
    "# Personal Project\n",
    "> Nama: **Agung Besti**\n",
    "\n",
    "> Name Project: **Image Classification Model Deployment (Fruits)**"
   ]
  },
  {
   "cell_type": "code",
   "execution_count": 1,
   "metadata": {
    "colab": {
     "base_uri": "https://localhost:8080/"
    },
    "id": "tj-geNiDyFHp",
    "outputId": "9f35a516-d8dc-4030-b09d-83840c59b96a"
   },
   "outputs": [
    {
     "name": "stdout",
     "output_type": "stream",
     "text": [
      "Mounted at /content/gdrive\n"
     ]
    }
   ],
   "source": [
    "from google.colab import drive\n",
    "drive.mount('/content/gdrive')"
   ]
  },
  {
   "cell_type": "code",
   "execution_count": 2,
   "metadata": {
    "id": "VFdrPEXIyOy_"
   },
   "outputs": [],
   "source": [
    "import os\n",
    "os.environ['KAGGLE_CONFIG_DIR'] = \"/content/gdrive/My Drive/kaggle\""
   ]
  },
  {
   "cell_type": "code",
   "execution_count": 3,
   "metadata": {
    "colab": {
     "base_uri": "https://localhost:8080/"
    },
    "id": "A9RF35Z1yO1f",
    "outputId": "4509d32f-6a42-4ef2-a00b-096d1eb035ef"
   },
   "outputs": [
    {
     "name": "stdout",
     "output_type": "stream",
     "text": [
      "/content/gdrive/My Drive/kaggle/fruits\n"
     ]
    }
   ],
   "source": [
    "#changing the working directory\n",
    "%cd /content/gdrive/My Drive/kaggle/fruits"
   ]
  },
  {
   "cell_type": "code",
   "execution_count": 4,
   "metadata": {
    "colab": {
     "base_uri": "https://localhost:8080/"
    },
    "id": "_d5xXd1_yO3b",
    "outputId": "af5be992-cf72-4c2d-98d5-eaff30e1369d"
   },
   "outputs": [
    {
     "name": "stdout",
     "output_type": "stream",
     "text": [
      "fruits.zip: Skipping, found more recently modified local copy (use --force to force download)\n"
     ]
    }
   ],
   "source": [
    "!kaggle datasets download -d moltean/fruits"
   ]
  },
  {
   "cell_type": "code",
   "execution_count": 5,
   "metadata": {
    "colab": {
     "base_uri": "https://localhost:8080/"
    },
    "id": "EIFresRIyO55",
    "outputId": "fe4c1305-f95f-403d-e192-5c577813f372"
   },
   "outputs": [
    {
     "data": {
      "text/plain": [
       "['fruits.zip']"
      ]
     },
     "execution_count": 5,
     "metadata": {
      "tags": []
     },
     "output_type": "execute_result"
    }
   ],
   "source": [
    "os.listdir('/content/gdrive/MyDrive/kaggle/fruits')"
   ]
  },
  {
   "cell_type": "code",
   "execution_count": 6,
   "metadata": {
    "id": "jtnBXw-Z-nXH"
   },
   "outputs": [],
   "source": [
    "#Library\n",
    "from sklearn.model_selection import train_test_split\n",
    "import tensorflow as tf\n",
    "from tensorflow.keras.preprocessing.image import ImageDataGenerator, img_to_array, load_img\n",
    "from tensorflow.keras.models import Sequential\n",
    "from tensorflow.keras.layers import Conv2D, MaxPooling2D, Activation, Dense, Flatten, Dropout\n",
    "from tensorflow.keras.optimizers import Adam\n",
    "from keras import backend as K\n",
    "from keras.callbacks import EarlyStopping\n",
    "from keras.preprocessing import image\n",
    "import matplotlib.pyplot as plt\n",
    "import matplotlib.image as mpimg\n",
    "import time"
   ]
  },
  {
   "cell_type": "code",
   "execution_count": 7,
   "metadata": {
    "id": "VCyC9MqbyO8m"
   },
   "outputs": [],
   "source": [
    "import zipfile\n",
    "local_zip = '/content/gdrive/MyDrive/kaggle/fruits/fruits.zip'\n",
    "zip_ref = zipfile.ZipFile(local_zip, 'r')\n",
    "zip_ref.extractall()\n",
    "zip_ref.close()"
   ]
  },
  {
   "cell_type": "code",
   "execution_count": 8,
   "metadata": {
    "colab": {
     "base_uri": "https://localhost:8080/"
    },
    "id": "UYEqmeyLzoaC",
    "outputId": "73b766bb-f233-460d-e6c5-276d4ac071aa"
   },
   "outputs": [
    {
     "data": {
      "text/plain": [
       "['fruits.zip', 'fruits-360']"
      ]
     },
     "execution_count": 8,
     "metadata": {
      "tags": []
     },
     "output_type": "execute_result"
    }
   ],
   "source": [
    "os.listdir('/content/gdrive/MyDrive/kaggle/fruits/')"
   ]
  },
  {
   "cell_type": "code",
   "execution_count": 9,
   "metadata": {
    "colab": {
     "base_uri": "https://localhost:8080/"
    },
    "id": "o4mzluibzocn",
    "outputId": "80021396-80c1-4d57-912e-4ab6e67c4f07"
   },
   "outputs": [
    {
     "name": "stdout",
     "output_type": "stream",
     "text": [
      "List folder train: ['Apple Braeburn', 'Apple Crimson Snow', 'Apple Golden 1', 'Apple Golden 2', 'Apple Golden 3', 'Apple Granny Smith', 'Apple Pink Lady', 'Apple Red 1', 'Apple Red 2', 'Apple Red 3', 'Apple Red Delicious', 'Apple Red Yellow 1', 'Apple Red Yellow 2', 'Apricot', 'Avocado ripe', 'Avocado', 'Banana Lady Finger', 'Banana Red', 'Banana', 'Beetroot', 'Blueberry', 'Cactus fruit', 'Cantaloupe 1', 'Cantaloupe 2', 'Carambula', 'Cauliflower', 'Cherry 1', 'Cherry 2', 'Cherry Rainier', 'Cherry Wax Black', 'Cherry Wax Red', 'Cherry Wax Yellow', 'Chestnut', 'Clementine', 'Cocos', 'Corn Husk', 'Corn', 'Cucumber Ripe 2', 'Cucumber Ripe', 'Dates', 'Eggplant', 'Fig', 'Ginger Root', 'Granadilla', 'Grape Blue', 'Grape Pink', 'Grape White 2', 'Grape White 3', 'Grape White 4', 'Grape White', 'Grapefruit Pink', 'Grapefruit White', 'Guava', 'Hazelnut', 'Huckleberry', 'Kaki', 'Kiwi', 'Kohlrabi', 'Kumquats', 'Lemon Meyer', 'Lemon', 'Limes', 'Lychee', 'Mandarine', 'Mango Red', 'Mango', 'Mangostan', 'Maracuja', 'Melon Piel de Sapo', 'Mulberry', 'Nectarine Flat', 'Nectarine', 'Nut Forest', 'Nut Pecan', 'Onion Red Peeled', 'Onion Red', 'Onion White', 'Orange', 'Papaya', 'Passion Fruit', 'Peach 2', 'Peach Flat', 'Peach', 'Pear 2', 'Pear Abate', 'Pear Forelle', 'Pear Kaiser', 'Pear Monster', 'Pear Red', 'Pear Stone', 'Pear Williams', 'Pear', 'Pepino', 'Pepper Green', 'Pepper Orange', 'Pepper Red', 'Pepper Yellow', 'Physalis with Husk', 'Physalis', 'Pineapple Mini', 'Pineapple', 'Pitahaya Red', 'Plum 2', 'Plum 3', 'Plum', 'Pomegranate', 'Pomelo Sweetie', 'Potato Red Washed', 'Potato Red', 'Potato Sweet', 'Potato White', 'Quince', 'Rambutan', 'Raspberry', 'Redcurrant', 'Salak', 'Strawberry Wedge', 'Strawberry', 'Tamarillo', 'Tangelo', 'Tomato 1', 'Tomato 2', 'Tomato 3', 'Tomato 4', 'Tomato Cherry Red', 'Tomato Heart', 'Tomato Maroon', 'Tomato Yellow', 'Tomato not Ripened', 'Walnut', 'Watermelon']\n"
     ]
    }
   ],
   "source": [
    "print(\"List folder train: \"+str(os.listdir('/content/gdrive/MyDrive/kaggle/fruits/fruits-360/Training/')))\n",
    "dir_dataset = \"/content/gdrive/MyDrive/kaggle/fruits/fruits-360/Training/\""
   ]
  },
  {
   "cell_type": "code",
   "execution_count": 10,
   "metadata": {
    "colab": {
     "base_uri": "https://localhost:8080/"
    },
    "id": "TQXKCj149kqx",
    "outputId": "37bf5d19-bbfe-41d7-ac95-6b808a2d32ed"
   },
   "outputs": [
    {
     "name": "stdout",
     "output_type": "stream",
     "text": [
      "Total Data Image JPEG     :  67692\n",
      "Total Kelas Data Image     :  131\n"
     ]
    }
   ],
   "source": [
    "# Mengecek jumlah data fruits\n",
    "import glob \n",
    "total_image = len(list(glob.iglob(\"/content/gdrive/MyDrive/kaggle/fruits/fruits-360/Training/*/*.*\", recursive=True)))\n",
    "print(\"Total Data Image JPEG     : \",total_image)\n",
    "className = glob.glob('/content/gdrive/MyDrive/kaggle/fruits/fruits-360/Training/*' )\n",
    "numberOfClass = len(className)\n",
    "print(\"Total Kelas Data Image     : \",numberOfClass)"
   ]
  },
  {
   "cell_type": "code",
   "execution_count": 11,
   "metadata": {
    "colab": {
     "base_uri": "https://localhost:8080/"
    },
    "id": "JCZVA91ZUehJ",
    "outputId": "7e29b3ba-63f4-4e44-cf31-d9dfc601e9b2"
   },
   "outputs": [
    {
     "name": "stdout",
     "output_type": "stream",
     "text": [
      "(100, 100, 3)\n"
     ]
    }
   ],
   "source": [
    "#Merubah image menjadi array\n",
    "img = load_img(\"/content/gdrive/MyDrive/kaggle/fruits/fruits-360/Training/Apple Braeburn/0_100.jpg\")\n",
    "x = img_to_array(img)\n",
    "print(x.shape)"
   ]
  },
  {
   "cell_type": "markdown",
   "metadata": {
    "id": "lzfGGSIq2DBA"
   },
   "source": [
    "**Implementasi Image Data Generator Tensorflow untuk pengolahan gambar**"
   ]
  },
  {
   "cell_type": "code",
   "execution_count": 12,
   "metadata": {
    "id": "g2TN2RRNzoe_"
   },
   "outputs": [],
   "source": [
    "#Ukuran validation 20% dari dataset\n",
    "val_size = 0.2\n",
    "\n",
    "Train_datagen = ImageDataGenerator(\n",
    "    rotation_range = 30,\n",
    "    brightness_range = [0.2,1.0],\n",
    "    shear_range = 0.2,\n",
    "    zoom_range = 0.2,\n",
    "    horizontal_flip = True,\n",
    "    fill_mode = \"nearest\",\n",
    "    rescale = 1./255,\n",
    "    validation_split = val_size\n",
    ")\n",
    "\n",
    "Validation_datagen = ImageDataGenerator(\n",
    "    rotation_range = 30,\n",
    "    brightness_range = [0.2,1.0],\n",
    "    shear_range = 0.2,\n",
    "    zoom_range = 0.2,\n",
    "    horizontal_flip = True,\n",
    "    fill_mode = \"nearest\",\n",
    "    rescale = 1./255,\n",
    "    validation_split = val_size\n",
    ")"
   ]
  },
  {
   "cell_type": "markdown",
   "metadata": {
    "id": "C1DOF-mlAXn6"
   },
   "source": [
    "Mengsplit dataset menjadi **train set** dan **validation set** \n",
    "dengan proporsi **80% train set** dan **20% val set**"
   ]
  },
  {
   "cell_type": "code",
   "execution_count": 13,
   "metadata": {
    "colab": {
     "base_uri": "https://localhost:8080/"
    },
    "id": "y9D6wmmnzorF",
    "outputId": "e29a6995-70a3-409a-aa7f-5d68c73c18c1"
   },
   "outputs": [
    {
     "name": "stdout",
     "output_type": "stream",
     "text": [
      "Found 54190 images belonging to 131 classes.\n",
      "Found 13502 images belonging to 131 classes.\n"
     ]
    }
   ],
   "source": [
    "batch_size = 32\n",
    "# Train dan Validation generator  dengan mode categorical\n",
    "Train_generator = Train_datagen.flow_from_directory(\n",
    "    dir_dataset,\n",
    "    target_size = x.shape[:2],\n",
    "    color_mode = \"rgb\",\n",
    "    class_mode = \"categorical\",\n",
    "    batch_size = batch_size,\n",
    "    subset = \"training\"\n",
    ")\n",
    "\n",
    "Validation_generator = Validation_datagen.flow_from_directory(\n",
    "    dir_dataset,\n",
    "    target_size = x.shape[:2],\n",
    "    color_mode = \"rgb\",\n",
    "    class_mode = \"categorical\",\n",
    "    batch_size = batch_size,\n",
    "    subset = \"validation\"\n",
    ")"
   ]
  },
  {
   "cell_type": "code",
   "execution_count": 14,
   "metadata": {
    "id": "2rxbaqloDQf-"
   },
   "outputs": [],
   "source": [
    "#Membuat fungsi recall untuk mengukur tingkat keberhasilan sistem dalam menemukan kembali sebuah informasi.\n",
    "def rec(y_true, y_pred):\n",
    "    true_positives = K.sum(K.round(K.clip(y_true * y_pred, 0, 1)))\n",
    "    possible_positives = K.sum(K.round(K.clip(y_true, 0, 1)))\n",
    "    recall = true_positives / (possible_positives + K.epsilon())\n",
    "    return recall\n",
    "#Membuat fungsi Precision untuk mengukur tingkat ketepatan antara informasi yang diminta. \n",
    "def prec(y_true, y_pred):\n",
    "    true_positives = K.sum(K.round(K.clip(y_true * y_pred, 0, 1)))\n",
    "    predicted_positives = K.sum(K.round(K.clip(y_pred, 0, 1)))\n",
    "    precision = true_positives / (predicted_positives + K.epsilon())\n",
    "    return precision"
   ]
  },
  {
   "cell_type": "code",
   "execution_count": 15,
   "metadata": {
    "id": "K6PqWKaszo-j"
   },
   "outputs": [],
   "source": [
    "# Pembuatan model dengan tipe Sequential\n",
    "\n",
    "model = Sequential(\n",
    "    [\n",
    "     Conv2D(filters = 32, kernel_size = (3,3), activation ='relu', input_shape = x.shape),\n",
    "     MaxPooling2D(pool_size = (2,2)),\n",
    "     \n",
    "     Conv2D(filters = 32, kernel_size = (3,3), activation ='relu'),\n",
    "     MaxPooling2D(pool_size=(2,2), strides=(2,2)),\n",
    "\n",
    "     Conv2D(filters = 32, kernel_size = (3,3), activation ='relu'),\n",
    "     MaxPooling2D(pool_size=(2,2), strides=(2,2)),\n",
    "\n",
    "     Flatten(),\n",
    "     Dense(1024, activation = \"relu\"),\n",
    "     Dropout(0.5),\n",
    "     Dense(numberOfClass, activation = \"softmax\")\n",
    "    ]\n",
    ")\n"
   ]
  },
  {
   "cell_type": "code",
   "execution_count": 16,
   "metadata": {
    "id": "my529y42zpAw"
   },
   "outputs": [],
   "source": [
    "# Optimasi Adam dengan learning rate 0.001\n",
    "Adam(learning_rate=0.00146, beta_1=0.9, beta_2=0.999, name='Adam')\n",
    "model.compile(optimizer = 'Adam',\n",
    "              loss = 'categorical_crossentropy',\n",
    "              metrics = ['accuracy', prec, rec])"
   ]
  },
  {
   "cell_type": "markdown",
   "metadata": {
    "id": "Jcth18SgGxtI"
   },
   "source": [
    "**Penggunaan Learning Rate Schedule dan Callbacks**"
   ]
  },
  {
   "cell_type": "code",
   "execution_count": 17,
   "metadata": {
    "colab": {
     "base_uri": "https://localhost:8080/"
    },
    "id": "UvXDyXvhzpDz",
    "outputId": "2be9bdc8-203c-426d-ff3d-aaf533ae9916"
   },
   "outputs": [
    {
     "name": "stdout",
     "output_type": "stream",
     "text": [
      "Model: \"sequential\"\n",
      "_________________________________________________________________\n",
      "Layer (type)                 Output Shape              Param #   \n",
      "=================================================================\n",
      "conv2d (Conv2D)              (None, 98, 98, 32)        896       \n",
      "_________________________________________________________________\n",
      "max_pooling2d (MaxPooling2D) (None, 49, 49, 32)        0         \n",
      "_________________________________________________________________\n",
      "conv2d_1 (Conv2D)            (None, 47, 47, 32)        9248      \n",
      "_________________________________________________________________\n",
      "max_pooling2d_1 (MaxPooling2 (None, 23, 23, 32)        0         \n",
      "_________________________________________________________________\n",
      "conv2d_2 (Conv2D)            (None, 21, 21, 32)        9248      \n",
      "_________________________________________________________________\n",
      "max_pooling2d_2 (MaxPooling2 (None, 10, 10, 32)        0         \n",
      "_________________________________________________________________\n",
      "flatten (Flatten)            (None, 3200)              0         \n",
      "_________________________________________________________________\n",
      "dense (Dense)                (None, 1024)              3277824   \n",
      "_________________________________________________________________\n",
      "dropout (Dropout)            (None, 1024)              0         \n",
      "_________________________________________________________________\n",
      "dense_1 (Dense)              (None, 131)               134275    \n",
      "=================================================================\n",
      "Total params: 3,431,491\n",
      "Trainable params: 3,431,491\n",
      "Non-trainable params: 0\n",
      "_________________________________________________________________\n"
     ]
    }
   ],
   "source": [
    "def scheduler(epoch, lr):\n",
    "  if epoch < 5:\n",
    "    return lr\n",
    "  else:\n",
    "    return lr * tf.math.exp(-0.1)\n",
    "\n",
    "class myCallback(tf.keras.callbacks.Callback):\n",
    "  def on_epoch_end(self, epoch, logs={}):\n",
    "    if(logs.get('accuracy')>0.92 and logs.get('val_accuracy')>0.92):\n",
    "      print(\"\\nAkurasi train dan validasi didapat telah mencapai nilai > 92%!\")\n",
    "      self.model.stop_training = True\n",
    "callbacks = myCallback()\n",
    "\n",
    "lr_schedule = tf.keras.callbacks.LearningRateScheduler(scheduler, verbose=1)\n",
    "tb_callback = tf.keras.callbacks.TensorBoard(\n",
    "    log_dir='/content/gdrive/MyDrive/kaggle/fruits/fruits-360/logs', \n",
    "    histogram_freq=0, \n",
    "    write_graph=True, \n",
    "    write_images=False,\n",
    "    update_freq='epoch', \n",
    "    embeddings_freq=0,\n",
    "    embeddings_metadata=None\n",
    ")\n",
    "es = EarlyStopping(\n",
    "    monitor='val_acc', \n",
    "    mode='max',\n",
    "    patience = 3\n",
    ")\n",
    "\n",
    "model.summary()"
   ]
  },
  {
   "cell_type": "code",
   "execution_count": 18,
   "metadata": {
    "colab": {
     "base_uri": "https://localhost:8080/"
    },
    "id": "gn0iQykcHrq_",
    "outputId": "91cd5098-12c1-48da-a7ab-0d70433e5e45"
   },
   "outputs": [
    {
     "name": "stdout",
     "output_type": "stream",
     "text": [
      "\n",
      "Start Training Model Adam\n",
      "\n",
      "\n",
      "Epoch 00001: LearningRateScheduler reducing learning rate to 0.0010000000474974513.\n",
      "Epoch 1/100\n",
      " 1/50 [..............................] - ETA: 0s - loss: 4.9221 - accuracy: 0.0000e+00 - prec: 0.0000e+00 - rec: 0.0000e+00WARNING:tensorflow:From /usr/local/lib/python3.6/dist-packages/tensorflow/python/ops/summary_ops_v2.py:1277: stop (from tensorflow.python.eager.profiler) is deprecated and will be removed after 2020-07-01.\n",
      "Instructions for updating:\n",
      "use `tf.profiler.experimental.stop` instead.\n",
      "50/50 [==============================] - ETA: 0s - loss: 4.7027 - accuracy: 0.0256 - prec: 0.0200 - rec: 6.2500e-04WARNING:tensorflow:Early stopping conditioned on metric `val_acc` which is not available. Available metrics are: loss,accuracy,prec,rec,val_loss,val_accuracy,val_prec,val_rec,lr\n",
      "50/50 [==============================] - 32s 649ms/step - loss: 4.7027 - accuracy: 0.0256 - prec: 0.0200 - rec: 6.2500e-04 - val_loss: 4.3900 - val_accuracy: 0.0300 - val_prec: 0.0000e+00 - val_rec: 0.0000e+00\n",
      "\n",
      "Epoch 00002: LearningRateScheduler reducing learning rate to 0.0010000000474974513.\n",
      "Epoch 2/100\n",
      "50/50 [==============================] - ETA: 0s - loss: 3.9877 - accuracy: 0.0769 - prec: 0.0500 - rec: 0.0019WARNING:tensorflow:Early stopping conditioned on metric `val_acc` which is not available. Available metrics are: loss,accuracy,prec,rec,val_loss,val_accuracy,val_prec,val_rec,lr\n",
      "50/50 [==============================] - 32s 637ms/step - loss: 3.9877 - accuracy: 0.0769 - prec: 0.0500 - rec: 0.0019 - val_loss: 3.5995 - val_accuracy: 0.1175 - val_prec: 0.1200 - val_rec: 0.0037\n",
      "\n",
      "Epoch 00003: LearningRateScheduler reducing learning rate to 0.0010000000474974513.\n",
      "Epoch 3/100\n",
      "50/50 [==============================] - ETA: 0s - loss: 3.4945 - accuracy: 0.1125 - prec: 0.2550 - rec: 0.0119WARNING:tensorflow:Early stopping conditioned on metric `val_acc` which is not available. Available metrics are: loss,accuracy,prec,rec,val_loss,val_accuracy,val_prec,val_rec,lr\n",
      "50/50 [==============================] - 31s 623ms/step - loss: 3.4945 - accuracy: 0.1125 - prec: 0.2550 - rec: 0.0119 - val_loss: 3.0613 - val_accuracy: 0.2000 - val_prec: 0.2400 - val_rec: 0.0088\n",
      "\n",
      "Epoch 00004: LearningRateScheduler reducing learning rate to 0.0010000000474974513.\n",
      "Epoch 4/100\n",
      "50/50 [==============================] - ETA: 0s - loss: 2.9535 - accuracy: 0.2087 - prec: 0.3906 - rec: 0.0375WARNING:tensorflow:Early stopping conditioned on metric `val_acc` which is not available. Available metrics are: loss,accuracy,prec,rec,val_loss,val_accuracy,val_prec,val_rec,lr\n",
      "50/50 [==============================] - 31s 618ms/step - loss: 2.9535 - accuracy: 0.2087 - prec: 0.3906 - rec: 0.0375 - val_loss: 2.7023 - val_accuracy: 0.2850 - val_prec: 0.5467 - val_rec: 0.0350\n",
      "\n",
      "Epoch 00005: LearningRateScheduler reducing learning rate to 0.0010000000474974513.\n",
      "Epoch 5/100\n",
      "50/50 [==============================] - ETA: 0s - loss: 2.6413 - accuracy: 0.2756 - prec: 0.5989 - rec: 0.0775WARNING:tensorflow:Early stopping conditioned on metric `val_acc` which is not available. Available metrics are: loss,accuracy,prec,rec,val_loss,val_accuracy,val_prec,val_rec,lr\n",
      "50/50 [==============================] - 31s 615ms/step - loss: 2.6413 - accuracy: 0.2756 - prec: 0.5989 - rec: 0.0775 - val_loss: 2.3898 - val_accuracy: 0.3275 - val_prec: 0.5605 - val_rec: 0.0662\n",
      "\n",
      "Epoch 00006: LearningRateScheduler reducing learning rate to tf.Tensor(0.00090483745, shape=(), dtype=float32).\n",
      "Epoch 6/100\n",
      "50/50 [==============================] - ETA: 0s - loss: 2.2942 - accuracy: 0.3413 - prec: 0.5537 - rec: 0.1213WARNING:tensorflow:Early stopping conditioned on metric `val_acc` which is not available. Available metrics are: loss,accuracy,prec,rec,val_loss,val_accuracy,val_prec,val_rec,lr\n",
      "50/50 [==============================] - 32s 644ms/step - loss: 2.2942 - accuracy: 0.3413 - prec: 0.5537 - rec: 0.1213 - val_loss: 2.0088 - val_accuracy: 0.4162 - val_prec: 0.7818 - val_rec: 0.1437\n",
      "\n",
      "Epoch 00007: LearningRateScheduler reducing learning rate to tf.Tensor(0.0008187308, shape=(), dtype=float32).\n",
      "Epoch 7/100\n",
      "50/50 [==============================] - ETA: 0s - loss: 2.1008 - accuracy: 0.3963 - prec: 0.6262 - rec: 0.1587WARNING:tensorflow:Early stopping conditioned on metric `val_acc` which is not available. Available metrics are: loss,accuracy,prec,rec,val_loss,val_accuracy,val_prec,val_rec,lr\n",
      "50/50 [==============================] - 31s 622ms/step - loss: 2.1008 - accuracy: 0.3963 - prec: 0.6262 - rec: 0.1587 - val_loss: 1.8580 - val_accuracy: 0.4837 - val_prec: 0.7763 - val_rec: 0.1525\n",
      "\n",
      "Epoch 00008: LearningRateScheduler reducing learning rate to tf.Tensor(0.0007408183, shape=(), dtype=float32).\n",
      "Epoch 8/100\n",
      "50/50 [==============================] - ETA: 0s - loss: 1.8014 - accuracy: 0.4563 - prec: 0.6933 - rec: 0.2356WARNING:tensorflow:Early stopping conditioned on metric `val_acc` which is not available. Available metrics are: loss,accuracy,prec,rec,val_loss,val_accuracy,val_prec,val_rec,lr\n",
      "50/50 [==============================] - 31s 622ms/step - loss: 1.8014 - accuracy: 0.4563 - prec: 0.6933 - rec: 0.2356 - val_loss: 1.6324 - val_accuracy: 0.5450 - val_prec: 0.7967 - val_rec: 0.2512\n",
      "\n",
      "Epoch 00009: LearningRateScheduler reducing learning rate to tf.Tensor(0.0006703201, shape=(), dtype=float32).\n",
      "Epoch 9/100\n",
      "50/50 [==============================] - ETA: 0s - loss: 1.6207 - accuracy: 0.5069 - prec: 0.6980 - rec: 0.2869WARNING:tensorflow:Early stopping conditioned on metric `val_acc` which is not available. Available metrics are: loss,accuracy,prec,rec,val_loss,val_accuracy,val_prec,val_rec,lr\n",
      "50/50 [==============================] - 31s 630ms/step - loss: 1.6207 - accuracy: 0.5069 - prec: 0.6980 - rec: 0.2869 - val_loss: 1.3269 - val_accuracy: 0.6513 - val_prec: 0.8136 - val_rec: 0.3725\n",
      "\n",
      "Epoch 00010: LearningRateScheduler reducing learning rate to tf.Tensor(0.00060653075, shape=(), dtype=float32).\n",
      "Epoch 10/100\n",
      "50/50 [==============================] - ETA: 0s - loss: 1.4966 - accuracy: 0.5494 - prec: 0.7133 - rec: 0.3550WARNING:tensorflow:Early stopping conditioned on metric `val_acc` which is not available. Available metrics are: loss,accuracy,prec,rec,val_loss,val_accuracy,val_prec,val_rec,lr\n",
      "50/50 [==============================] - 32s 631ms/step - loss: 1.4966 - accuracy: 0.5494 - prec: 0.7133 - rec: 0.3550 - val_loss: 1.3022 - val_accuracy: 0.6500 - val_prec: 0.8567 - val_rec: 0.3700\n",
      "\n",
      "Epoch 00011: LearningRateScheduler reducing learning rate to tf.Tensor(0.00054881175, shape=(), dtype=float32).\n",
      "Epoch 11/100\n",
      "50/50 [==============================] - ETA: 0s - loss: 1.3194 - accuracy: 0.5894 - prec: 0.7586 - rec: 0.4081WARNING:tensorflow:Early stopping conditioned on metric `val_acc` which is not available. Available metrics are: loss,accuracy,prec,rec,val_loss,val_accuracy,val_prec,val_rec,lr\n",
      "50/50 [==============================] - 31s 627ms/step - loss: 1.3194 - accuracy: 0.5894 - prec: 0.7586 - rec: 0.4081 - val_loss: 1.1087 - val_accuracy: 0.6963 - val_prec: 0.8601 - val_rec: 0.4675\n",
      "\n",
      "Epoch 00012: LearningRateScheduler reducing learning rate to tf.Tensor(0.0004965854, shape=(), dtype=float32).\n",
      "Epoch 12/100\n",
      "50/50 [==============================] - ETA: 0s - loss: 1.2098 - accuracy: 0.6231 - prec: 0.7515 - rec: 0.4431WARNING:tensorflow:Early stopping conditioned on metric `val_acc` which is not available. Available metrics are: loss,accuracy,prec,rec,val_loss,val_accuracy,val_prec,val_rec,lr\n",
      "50/50 [==============================] - 32s 632ms/step - loss: 1.2098 - accuracy: 0.6231 - prec: 0.7515 - rec: 0.4431 - val_loss: 1.1527 - val_accuracy: 0.6888 - val_prec: 0.8323 - val_rec: 0.5050\n",
      "\n",
      "Epoch 00013: LearningRateScheduler reducing learning rate to tf.Tensor(0.00044932903, shape=(), dtype=float32).\n",
      "Epoch 13/100\n",
      "50/50 [==============================] - ETA: 0s - loss: 1.1530 - accuracy: 0.6469 - prec: 0.7931 - rec: 0.4875WARNING:tensorflow:Early stopping conditioned on metric `val_acc` which is not available. Available metrics are: loss,accuracy,prec,rec,val_loss,val_accuracy,val_prec,val_rec,lr\n",
      "50/50 [==============================] - 31s 623ms/step - loss: 1.1530 - accuracy: 0.6469 - prec: 0.7931 - rec: 0.4875 - val_loss: 1.0443 - val_accuracy: 0.6950 - val_prec: 0.8516 - val_rec: 0.5150\n",
      "\n",
      "Epoch 00014: LearningRateScheduler reducing learning rate to tf.Tensor(0.0004065697, shape=(), dtype=float32).\n",
      "Epoch 14/100\n",
      "50/50 [==============================] - ETA: 0s - loss: 1.0267 - accuracy: 0.6812 - prec: 0.8203 - rec: 0.5369WARNING:tensorflow:Early stopping conditioned on metric `val_acc` which is not available. Available metrics are: loss,accuracy,prec,rec,val_loss,val_accuracy,val_prec,val_rec,lr\n",
      "50/50 [==============================] - 31s 624ms/step - loss: 1.0267 - accuracy: 0.6812 - prec: 0.8203 - rec: 0.5369 - val_loss: 0.9971 - val_accuracy: 0.7350 - val_prec: 0.8767 - val_rec: 0.5788\n",
      "\n",
      "Epoch 00015: LearningRateScheduler reducing learning rate to tf.Tensor(0.0003678795, shape=(), dtype=float32).\n",
      "Epoch 15/100\n",
      "50/50 [==============================] - ETA: 0s - loss: 0.9577 - accuracy: 0.6956 - prec: 0.8138 - rec: 0.5487WARNING:tensorflow:Early stopping conditioned on metric `val_acc` which is not available. Available metrics are: loss,accuracy,prec,rec,val_loss,val_accuracy,val_prec,val_rec,lr\n",
      "50/50 [==============================] - 31s 623ms/step - loss: 0.9577 - accuracy: 0.6956 - prec: 0.8138 - rec: 0.5487 - val_loss: 0.8841 - val_accuracy: 0.7437 - val_prec: 0.8322 - val_rec: 0.6150\n",
      "\n",
      "Epoch 00016: LearningRateScheduler reducing learning rate to tf.Tensor(0.00033287113, shape=(), dtype=float32).\n",
      "Epoch 16/100\n",
      "50/50 [==============================] - ETA: 0s - loss: 0.9497 - accuracy: 0.7038 - prec: 0.8147 - rec: 0.5669WARNING:tensorflow:Early stopping conditioned on metric `val_acc` which is not available. Available metrics are: loss,accuracy,prec,rec,val_loss,val_accuracy,val_prec,val_rec,lr\n",
      "50/50 [==============================] - 31s 619ms/step - loss: 0.9497 - accuracy: 0.7038 - prec: 0.8147 - rec: 0.5669 - val_loss: 0.8723 - val_accuracy: 0.7450 - val_prec: 0.8677 - val_rec: 0.6275\n",
      "\n",
      "Epoch 00017: LearningRateScheduler reducing learning rate to tf.Tensor(0.00030119426, shape=(), dtype=float32).\n",
      "Epoch 17/100\n",
      "50/50 [==============================] - ETA: 0s - loss: 0.9638 - accuracy: 0.7056 - prec: 0.8231 - rec: 0.5594WARNING:tensorflow:Early stopping conditioned on metric `val_acc` which is not available. Available metrics are: loss,accuracy,prec,rec,val_loss,val_accuracy,val_prec,val_rec,lr\n",
      "50/50 [==============================] - 34s 670ms/step - loss: 0.9638 - accuracy: 0.7056 - prec: 0.8231 - rec: 0.5594 - val_loss: 0.8210 - val_accuracy: 0.7725 - val_prec: 0.8550 - val_rec: 0.6200\n",
      "\n",
      "Epoch 00018: LearningRateScheduler reducing learning rate to tf.Tensor(0.00027253185, shape=(), dtype=float32).\n",
      "Epoch 18/100\n",
      "50/50 [==============================] - ETA: 0s - loss: 0.8267 - accuracy: 0.7406 - prec: 0.8457 - rec: 0.6075WARNING:tensorflow:Early stopping conditioned on metric `val_acc` which is not available. Available metrics are: loss,accuracy,prec,rec,val_loss,val_accuracy,val_prec,val_rec,lr\n",
      "50/50 [==============================] - 31s 614ms/step - loss: 0.8267 - accuracy: 0.7406 - prec: 0.8457 - rec: 0.6075 - val_loss: 0.8042 - val_accuracy: 0.7987 - val_prec: 0.8761 - val_rec: 0.6538\n",
      "\n",
      "Epoch 00019: LearningRateScheduler reducing learning rate to tf.Tensor(0.00024659702, shape=(), dtype=float32).\n",
      "Epoch 19/100\n",
      "50/50 [==============================] - ETA: 0s - loss: 0.8516 - accuracy: 0.7287 - prec: 0.8302 - rec: 0.6169WARNING:tensorflow:Early stopping conditioned on metric `val_acc` which is not available. Available metrics are: loss,accuracy,prec,rec,val_loss,val_accuracy,val_prec,val_rec,lr\n",
      "50/50 [==============================] - 31s 617ms/step - loss: 0.8516 - accuracy: 0.7287 - prec: 0.8302 - rec: 0.6169 - val_loss: 0.7351 - val_accuracy: 0.7900 - val_prec: 0.8786 - val_rec: 0.6837\n",
      "\n",
      "Epoch 00020: LearningRateScheduler reducing learning rate to tf.Tensor(0.0002231302, shape=(), dtype=float32).\n",
      "Epoch 20/100\n",
      "50/50 [==============================] - ETA: 0s - loss: 0.7663 - accuracy: 0.7631 - prec: 0.8539 - rec: 0.6525WARNING:tensorflow:Early stopping conditioned on metric `val_acc` which is not available. Available metrics are: loss,accuracy,prec,rec,val_loss,val_accuracy,val_prec,val_rec,lr\n",
      "50/50 [==============================] - 31s 629ms/step - loss: 0.7663 - accuracy: 0.7631 - prec: 0.8539 - rec: 0.6525 - val_loss: 0.7248 - val_accuracy: 0.8000 - val_prec: 0.8869 - val_rec: 0.7188\n",
      "\n",
      "Epoch 00021: LearningRateScheduler reducing learning rate to tf.Tensor(0.00020189656, shape=(), dtype=float32).\n",
      "Epoch 21/100\n",
      "50/50 [==============================] - ETA: 0s - loss: 0.8026 - accuracy: 0.7494 - prec: 0.8418 - rec: 0.6338WARNING:tensorflow:Early stopping conditioned on metric `val_acc` which is not available. Available metrics are: loss,accuracy,prec,rec,val_loss,val_accuracy,val_prec,val_rec,lr\n",
      "50/50 [==============================] - 31s 627ms/step - loss: 0.8026 - accuracy: 0.7494 - prec: 0.8418 - rec: 0.6338 - val_loss: 0.6466 - val_accuracy: 0.8250 - val_prec: 0.9024 - val_rec: 0.7175\n",
      "\n",
      "Epoch 00022: LearningRateScheduler reducing learning rate to tf.Tensor(0.00018268357, shape=(), dtype=float32).\n",
      "Epoch 22/100\n",
      "50/50 [==============================] - ETA: 0s - loss: 0.7126 - accuracy: 0.7738 - prec: 0.8523 - rec: 0.6656WARNING:tensorflow:Early stopping conditioned on metric `val_acc` which is not available. Available metrics are: loss,accuracy,prec,rec,val_loss,val_accuracy,val_prec,val_rec,lr\n",
      "50/50 [==============================] - 33s 651ms/step - loss: 0.7126 - accuracy: 0.7738 - prec: 0.8523 - rec: 0.6656 - val_loss: 0.6452 - val_accuracy: 0.8363 - val_prec: 0.9005 - val_rec: 0.7425\n",
      "\n",
      "Epoch 00023: LearningRateScheduler reducing learning rate to tf.Tensor(0.00016529893, shape=(), dtype=float32).\n",
      "Epoch 23/100\n",
      "50/50 [==============================] - ETA: 0s - loss: 0.6985 - accuracy: 0.7812 - prec: 0.8407 - rec: 0.6719WARNING:tensorflow:Early stopping conditioned on metric `val_acc` which is not available. Available metrics are: loss,accuracy,prec,rec,val_loss,val_accuracy,val_prec,val_rec,lr\n",
      "50/50 [==============================] - 31s 619ms/step - loss: 0.6985 - accuracy: 0.7812 - prec: 0.8407 - rec: 0.6719 - val_loss: 0.6148 - val_accuracy: 0.8213 - val_prec: 0.8894 - val_rec: 0.7387\n",
      "\n",
      "Epoch 00024: LearningRateScheduler reducing learning rate to tf.Tensor(0.00014956866, shape=(), dtype=float32).\n",
      "Epoch 24/100\n",
      "50/50 [==============================] - ETA: 0s - loss: 0.6766 - accuracy: 0.7875 - prec: 0.8652 - rec: 0.7031WARNING:tensorflow:Early stopping conditioned on metric `val_acc` which is not available. Available metrics are: loss,accuracy,prec,rec,val_loss,val_accuracy,val_prec,val_rec,lr\n",
      "50/50 [==============================] - 31s 620ms/step - loss: 0.6766 - accuracy: 0.7875 - prec: 0.8652 - rec: 0.7031 - val_loss: 0.5812 - val_accuracy: 0.8375 - val_prec: 0.9075 - val_rec: 0.7425\n",
      "\n",
      "Epoch 00025: LearningRateScheduler reducing learning rate to tf.Tensor(0.00013533531, shape=(), dtype=float32).\n",
      "Epoch 25/100\n",
      "50/50 [==============================] - ETA: 0s - loss: 0.6474 - accuracy: 0.7881 - prec: 0.8683 - rec: 0.7094WARNING:tensorflow:Early stopping conditioned on metric `val_acc` which is not available. Available metrics are: loss,accuracy,prec,rec,val_loss,val_accuracy,val_prec,val_rec,lr\n",
      "50/50 [==============================] - 32s 646ms/step - loss: 0.6474 - accuracy: 0.7881 - prec: 0.8683 - rec: 0.7094 - val_loss: 0.6705 - val_accuracy: 0.8363 - val_prec: 0.8929 - val_rec: 0.7387\n",
      "\n",
      "Epoch 00026: LearningRateScheduler reducing learning rate to tf.Tensor(0.00012245646, shape=(), dtype=float32).\n",
      "Epoch 26/100\n",
      "50/50 [==============================] - ETA: 0s - loss: 0.6611 - accuracy: 0.7862 - prec: 0.8646 - rec: 0.6969WARNING:tensorflow:Early stopping conditioned on metric `val_acc` which is not available. Available metrics are: loss,accuracy,prec,rec,val_loss,val_accuracy,val_prec,val_rec,lr\n",
      "50/50 [==============================] - 32s 631ms/step - loss: 0.6611 - accuracy: 0.7862 - prec: 0.8646 - rec: 0.6969 - val_loss: 0.6681 - val_accuracy: 0.8225 - val_prec: 0.8958 - val_rec: 0.7300\n",
      "\n",
      "Epoch 00027: LearningRateScheduler reducing learning rate to tf.Tensor(0.000110803194, shape=(), dtype=float32).\n",
      "Epoch 27/100\n",
      "50/50 [==============================] - ETA: 0s - loss: 0.6298 - accuracy: 0.8006 - prec: 0.8655 - rec: 0.7075WARNING:tensorflow:Early stopping conditioned on metric `val_acc` which is not available. Available metrics are: loss,accuracy,prec,rec,val_loss,val_accuracy,val_prec,val_rec,lr\n",
      "50/50 [==============================] - 31s 624ms/step - loss: 0.6298 - accuracy: 0.8006 - prec: 0.8655 - rec: 0.7075 - val_loss: 0.5200 - val_accuracy: 0.8438 - val_prec: 0.9072 - val_rec: 0.7750\n",
      "\n",
      "Epoch 00028: LearningRateScheduler reducing learning rate to tf.Tensor(0.000100258876, shape=(), dtype=float32).\n",
      "Epoch 28/100\n",
      "50/50 [==============================] - ETA: 0s - loss: 0.6058 - accuracy: 0.8119 - prec: 0.8798 - rec: 0.7237WARNING:tensorflow:Early stopping conditioned on metric `val_acc` which is not available. Available metrics are: loss,accuracy,prec,rec,val_loss,val_accuracy,val_prec,val_rec,lr\n",
      "50/50 [==============================] - 31s 620ms/step - loss: 0.6058 - accuracy: 0.8119 - prec: 0.8798 - rec: 0.7237 - val_loss: 0.5684 - val_accuracy: 0.8487 - val_prec: 0.9034 - val_rec: 0.7713\n",
      "\n",
      "Epoch 00029: LearningRateScheduler reducing learning rate to tf.Tensor(9.0717986e-05, shape=(), dtype=float32).\n",
      "Epoch 29/100\n",
      "50/50 [==============================] - ETA: 0s - loss: 0.6368 - accuracy: 0.8037 - prec: 0.8691 - rec: 0.7063WARNING:tensorflow:Early stopping conditioned on metric `val_acc` which is not available. Available metrics are: loss,accuracy,prec,rec,val_loss,val_accuracy,val_prec,val_rec,lr\n",
      "50/50 [==============================] - 31s 625ms/step - loss: 0.6368 - accuracy: 0.8037 - prec: 0.8691 - rec: 0.7063 - val_loss: 0.5980 - val_accuracy: 0.8388 - val_prec: 0.8925 - val_rec: 0.7650\n",
      "\n",
      "Epoch 00030: LearningRateScheduler reducing learning rate to tf.Tensor(8.2085025e-05, shape=(), dtype=float32).\n",
      "Epoch 30/100\n",
      "50/50 [==============================] - ETA: 0s - loss: 0.6375 - accuracy: 0.7981 - prec: 0.8672 - rec: 0.7131WARNING:tensorflow:Early stopping conditioned on metric `val_acc` which is not available. Available metrics are: loss,accuracy,prec,rec,val_loss,val_accuracy,val_prec,val_rec,lr\n",
      "50/50 [==============================] - 31s 623ms/step - loss: 0.6375 - accuracy: 0.7981 - prec: 0.8672 - rec: 0.7131 - val_loss: 0.5384 - val_accuracy: 0.8475 - val_prec: 0.8984 - val_rec: 0.7812\n",
      "\n",
      "Epoch 00031: LearningRateScheduler reducing learning rate to tf.Tensor(7.42736e-05, shape=(), dtype=float32).\n",
      "Epoch 31/100\n",
      "50/50 [==============================] - ETA: 0s - loss: 0.5752 - accuracy: 0.8181 - prec: 0.8768 - rec: 0.7319WARNING:tensorflow:Early stopping conditioned on metric `val_acc` which is not available. Available metrics are: loss,accuracy,prec,rec,val_loss,val_accuracy,val_prec,val_rec,lr\n",
      "50/50 [==============================] - 31s 618ms/step - loss: 0.5752 - accuracy: 0.8181 - prec: 0.8768 - rec: 0.7319 - val_loss: 0.5712 - val_accuracy: 0.8500 - val_prec: 0.8918 - val_rec: 0.7900\n",
      "\n",
      "Epoch 00032: LearningRateScheduler reducing learning rate to tf.Tensor(6.720553e-05, shape=(), dtype=float32).\n",
      "Epoch 32/100\n",
      "50/50 [==============================] - ETA: 0s - loss: 0.5747 - accuracy: 0.8231 - prec: 0.8889 - rec: 0.7394WARNING:tensorflow:Early stopping conditioned on metric `val_acc` which is not available. Available metrics are: loss,accuracy,prec,rec,val_loss,val_accuracy,val_prec,val_rec,lr\n",
      "50/50 [==============================] - 31s 629ms/step - loss: 0.5747 - accuracy: 0.8231 - prec: 0.8889 - rec: 0.7394 - val_loss: 0.5526 - val_accuracy: 0.8450 - val_prec: 0.9019 - val_rec: 0.7788\n",
      "\n",
      "Epoch 00033: LearningRateScheduler reducing learning rate to tf.Tensor(6.081008e-05, shape=(), dtype=float32).\n",
      "Epoch 33/100\n",
      "50/50 [==============================] - ETA: 0s - loss: 0.6160 - accuracy: 0.8112 - prec: 0.8838 - rec: 0.7375WARNING:tensorflow:Early stopping conditioned on metric `val_acc` which is not available. Available metrics are: loss,accuracy,prec,rec,val_loss,val_accuracy,val_prec,val_rec,lr\n",
      "50/50 [==============================] - 31s 623ms/step - loss: 0.6160 - accuracy: 0.8112 - prec: 0.8838 - rec: 0.7375 - val_loss: 0.5451 - val_accuracy: 0.8525 - val_prec: 0.8953 - val_rec: 0.7775\n",
      "\n",
      "Epoch 00034: LearningRateScheduler reducing learning rate to tf.Tensor(5.502324e-05, shape=(), dtype=float32).\n",
      "Epoch 34/100\n",
      "50/50 [==============================] - ETA: 0s - loss: 0.5924 - accuracy: 0.8244 - prec: 0.8798 - rec: 0.7450WARNING:tensorflow:Early stopping conditioned on metric `val_acc` which is not available. Available metrics are: loss,accuracy,prec,rec,val_loss,val_accuracy,val_prec,val_rec,lr\n",
      "50/50 [==============================] - 31s 624ms/step - loss: 0.5924 - accuracy: 0.8244 - prec: 0.8798 - rec: 0.7450 - val_loss: 0.5623 - val_accuracy: 0.8525 - val_prec: 0.9174 - val_rec: 0.8050\n",
      "\n",
      "Epoch 00035: LearningRateScheduler reducing learning rate to tf.Tensor(4.9787086e-05, shape=(), dtype=float32).\n",
      "Epoch 35/100\n",
      "50/50 [==============================] - ETA: 0s - loss: 0.5819 - accuracy: 0.8225 - prec: 0.8809 - rec: 0.7475WARNING:tensorflow:Early stopping conditioned on metric `val_acc` which is not available. Available metrics are: loss,accuracy,prec,rec,val_loss,val_accuracy,val_prec,val_rec,lr\n",
      "50/50 [==============================] - 31s 622ms/step - loss: 0.5819 - accuracy: 0.8225 - prec: 0.8809 - rec: 0.7475 - val_loss: 0.5847 - val_accuracy: 0.8425 - val_prec: 0.9027 - val_rec: 0.7738\n",
      "\n",
      "Epoch 00036: LearningRateScheduler reducing learning rate to tf.Tensor(4.504922e-05, shape=(), dtype=float32).\n",
      "Epoch 36/100\n",
      "50/50 [==============================] - ETA: 0s - loss: 0.5416 - accuracy: 0.8238 - prec: 0.8845 - rec: 0.7606WARNING:tensorflow:Early stopping conditioned on metric `val_acc` which is not available. Available metrics are: loss,accuracy,prec,rec,val_loss,val_accuracy,val_prec,val_rec,lr\n",
      "50/50 [==============================] - 31s 621ms/step - loss: 0.5416 - accuracy: 0.8238 - prec: 0.8845 - rec: 0.7606 - val_loss: 0.5570 - val_accuracy: 0.8487 - val_prec: 0.9017 - val_rec: 0.7837\n",
      "\n",
      "Epoch 00037: LearningRateScheduler reducing learning rate to tf.Tensor(4.076222e-05, shape=(), dtype=float32).\n",
      "Epoch 37/100\n",
      "50/50 [==============================] - ETA: 0s - loss: 0.5575 - accuracy: 0.8188 - prec: 0.8818 - rec: 0.7544WARNING:tensorflow:Early stopping conditioned on metric `val_acc` which is not available. Available metrics are: loss,accuracy,prec,rec,val_loss,val_accuracy,val_prec,val_rec,lr\n",
      "50/50 [==============================] - 31s 622ms/step - loss: 0.5575 - accuracy: 0.8188 - prec: 0.8818 - rec: 0.7544 - val_loss: 0.5467 - val_accuracy: 0.8637 - val_prec: 0.9046 - val_rec: 0.8062\n",
      "\n",
      "Epoch 00038: LearningRateScheduler reducing learning rate to tf.Tensor(3.6883182e-05, shape=(), dtype=float32).\n",
      "Epoch 38/100\n",
      "50/50 [==============================] - ETA: 0s - loss: 0.5782 - accuracy: 0.8263 - prec: 0.8781 - rec: 0.7419WARNING:tensorflow:Early stopping conditioned on metric `val_acc` which is not available. Available metrics are: loss,accuracy,prec,rec,val_loss,val_accuracy,val_prec,val_rec,lr\n",
      "50/50 [==============================] - 31s 619ms/step - loss: 0.5782 - accuracy: 0.8263 - prec: 0.8781 - rec: 0.7419 - val_loss: 0.5118 - val_accuracy: 0.8562 - val_prec: 0.9004 - val_rec: 0.7950\n",
      "\n",
      "Epoch 00039: LearningRateScheduler reducing learning rate to tf.Tensor(3.3373282e-05, shape=(), dtype=float32).\n",
      "Epoch 39/100\n",
      "50/50 [==============================] - ETA: 0s - loss: 0.5696 - accuracy: 0.8236 - prec: 0.8750 - rec: 0.7485WARNING:tensorflow:Early stopping conditioned on metric `val_acc` which is not available. Available metrics are: loss,accuracy,prec,rec,val_loss,val_accuracy,val_prec,val_rec,lr\n",
      "50/50 [==============================] - 31s 613ms/step - loss: 0.5696 - accuracy: 0.8236 - prec: 0.8750 - rec: 0.7485 - val_loss: 0.5948 - val_accuracy: 0.8325 - val_prec: 0.8934 - val_rec: 0.7775\n",
      "\n",
      "Epoch 00040: LearningRateScheduler reducing learning rate to tf.Tensor(3.0197394e-05, shape=(), dtype=float32).\n",
      "Epoch 40/100\n",
      "50/50 [==============================] - ETA: 0s - loss: 0.5423 - accuracy: 0.8156 - prec: 0.8754 - rec: 0.7556WARNING:tensorflow:Early stopping conditioned on metric `val_acc` which is not available. Available metrics are: loss,accuracy,prec,rec,val_loss,val_accuracy,val_prec,val_rec,lr\n",
      "50/50 [==============================] - 31s 623ms/step - loss: 0.5423 - accuracy: 0.8156 - prec: 0.8754 - rec: 0.7556 - val_loss: 0.5064 - val_accuracy: 0.8562 - val_prec: 0.9173 - val_rec: 0.8037\n",
      "\n",
      "Epoch 00041: LearningRateScheduler reducing learning rate to tf.Tensor(2.7323733e-05, shape=(), dtype=float32).\n",
      "Epoch 41/100\n",
      "50/50 [==============================] - ETA: 0s - loss: 0.5061 - accuracy: 0.8419 - prec: 0.8942 - rec: 0.7725WARNING:tensorflow:Early stopping conditioned on metric `val_acc` which is not available. Available metrics are: loss,accuracy,prec,rec,val_loss,val_accuracy,val_prec,val_rec,lr\n",
      "50/50 [==============================] - 31s 623ms/step - loss: 0.5061 - accuracy: 0.8419 - prec: 0.8942 - rec: 0.7725 - val_loss: 0.5597 - val_accuracy: 0.8500 - val_prec: 0.8917 - val_rec: 0.7775\n",
      "\n",
      "Epoch 00042: LearningRateScheduler reducing learning rate to tf.Tensor(2.4723537e-05, shape=(), dtype=float32).\n",
      "Epoch 42/100\n",
      "50/50 [==============================] - ETA: 0s - loss: 0.5212 - accuracy: 0.8462 - prec: 0.8978 - rec: 0.7625WARNING:tensorflow:Early stopping conditioned on metric `val_acc` which is not available. Available metrics are: loss,accuracy,prec,rec,val_loss,val_accuracy,val_prec,val_rec,lr\n",
      "50/50 [==============================] - 32s 643ms/step - loss: 0.5212 - accuracy: 0.8462 - prec: 0.8978 - rec: 0.7625 - val_loss: 0.4699 - val_accuracy: 0.8737 - val_prec: 0.9322 - val_rec: 0.8138\n",
      "\n",
      "Epoch 00043: LearningRateScheduler reducing learning rate to tf.Tensor(2.2370781e-05, shape=(), dtype=float32).\n",
      "Epoch 43/100\n",
      "50/50 [==============================] - ETA: 0s - loss: 0.5340 - accuracy: 0.8419 - prec: 0.8961 - rec: 0.7713WARNING:tensorflow:Early stopping conditioned on metric `val_acc` which is not available. Available metrics are: loss,accuracy,prec,rec,val_loss,val_accuracy,val_prec,val_rec,lr\n",
      "50/50 [==============================] - 31s 628ms/step - loss: 0.5340 - accuracy: 0.8419 - prec: 0.8961 - rec: 0.7713 - val_loss: 0.6060 - val_accuracy: 0.8200 - val_prec: 0.8919 - val_rec: 0.7588\n",
      "\n",
      "Epoch 00044: LearningRateScheduler reducing learning rate to tf.Tensor(2.024192e-05, shape=(), dtype=float32).\n",
      "Epoch 44/100\n",
      "50/50 [==============================] - ETA: 0s - loss: 0.5501 - accuracy: 0.8356 - prec: 0.8831 - rec: 0.7569WARNING:tensorflow:Early stopping conditioned on metric `val_acc` which is not available. Available metrics are: loss,accuracy,prec,rec,val_loss,val_accuracy,val_prec,val_rec,lr\n",
      "50/50 [==============================] - 32s 646ms/step - loss: 0.5501 - accuracy: 0.8356 - prec: 0.8831 - rec: 0.7569 - val_loss: 0.4975 - val_accuracy: 0.8687 - val_prec: 0.9164 - val_rec: 0.8250\n",
      "\n",
      "Epoch 00045: LearningRateScheduler reducing learning rate to tf.Tensor(1.8315646e-05, shape=(), dtype=float32).\n",
      "Epoch 45/100\n",
      "50/50 [==============================] - ETA: 0s - loss: 0.5398 - accuracy: 0.8388 - prec: 0.8895 - rec: 0.7631WARNING:tensorflow:Early stopping conditioned on metric `val_acc` which is not available. Available metrics are: loss,accuracy,prec,rec,val_loss,val_accuracy,val_prec,val_rec,lr\n",
      "50/50 [==============================] - 31s 629ms/step - loss: 0.5398 - accuracy: 0.8388 - prec: 0.8895 - rec: 0.7631 - val_loss: 0.5463 - val_accuracy: 0.8587 - val_prec: 0.9128 - val_rec: 0.8000\n",
      "\n",
      "Epoch 00046: LearningRateScheduler reducing learning rate to tf.Tensor(1.6572681e-05, shape=(), dtype=float32).\n",
      "Epoch 46/100\n",
      "50/50 [==============================] - ETA: 0s - loss: 0.5539 - accuracy: 0.8263 - prec: 0.8810 - rec: 0.7581WARNING:tensorflow:Early stopping conditioned on metric `val_acc` which is not available. Available metrics are: loss,accuracy,prec,rec,val_loss,val_accuracy,val_prec,val_rec,lr\n",
      "50/50 [==============================] - 32s 630ms/step - loss: 0.5539 - accuracy: 0.8263 - prec: 0.8810 - rec: 0.7581 - val_loss: 0.5109 - val_accuracy: 0.8763 - val_prec: 0.9101 - val_rec: 0.8200\n",
      "\n",
      "Epoch 00047: LearningRateScheduler reducing learning rate to tf.Tensor(1.4995582e-05, shape=(), dtype=float32).\n",
      "Epoch 47/100\n",
      "50/50 [==============================] - ETA: 0s - loss: 0.5383 - accuracy: 0.8357 - prec: 0.8801 - rec: 0.7564WARNING:tensorflow:Early stopping conditioned on metric `val_acc` which is not available. Available metrics are: loss,accuracy,prec,rec,val_loss,val_accuracy,val_prec,val_rec,lr\n",
      "50/50 [==============================] - 31s 622ms/step - loss: 0.5383 - accuracy: 0.8357 - prec: 0.8801 - rec: 0.7564 - val_loss: 0.5142 - val_accuracy: 0.8550 - val_prec: 0.8984 - val_rec: 0.7912\n",
      "\n",
      "Epoch 00048: LearningRateScheduler reducing learning rate to tf.Tensor(1.3568564e-05, shape=(), dtype=float32).\n",
      "Epoch 48/100\n",
      "50/50 [==============================] - ETA: 0s - loss: 0.5433 - accuracy: 0.8350 - prec: 0.8901 - rec: 0.7600WARNING:tensorflow:Early stopping conditioned on metric `val_acc` which is not available. Available metrics are: loss,accuracy,prec,rec,val_loss,val_accuracy,val_prec,val_rec,lr\n",
      "50/50 [==============================] - 31s 619ms/step - loss: 0.5433 - accuracy: 0.8350 - prec: 0.8901 - rec: 0.7600 - val_loss: 0.5089 - val_accuracy: 0.8438 - val_prec: 0.9075 - val_rec: 0.7987\n",
      "\n",
      "Epoch 00049: LearningRateScheduler reducing learning rate to tf.Tensor(1.22773445e-05, shape=(), dtype=float32).\n",
      "Epoch 49/100\n",
      "50/50 [==============================] - ETA: 0s - loss: 0.5574 - accuracy: 0.8213 - prec: 0.8775 - rec: 0.7519WARNING:tensorflow:Early stopping conditioned on metric `val_acc` which is not available. Available metrics are: loss,accuracy,prec,rec,val_loss,val_accuracy,val_prec,val_rec,lr\n",
      "50/50 [==============================] - 31s 620ms/step - loss: 0.5574 - accuracy: 0.8213 - prec: 0.8775 - rec: 0.7519 - val_loss: 0.5764 - val_accuracy: 0.8462 - val_prec: 0.8907 - val_rec: 0.7825\n",
      "\n",
      "Epoch 00050: LearningRateScheduler reducing learning rate to tf.Tensor(1.1109001e-05, shape=(), dtype=float32).\n",
      "Epoch 50/100\n",
      "50/50 [==============================] - ETA: 0s - loss: 0.5317 - accuracy: 0.8331 - prec: 0.8845 - rec: 0.7581WARNING:tensorflow:Early stopping conditioned on metric `val_acc` which is not available. Available metrics are: loss,accuracy,prec,rec,val_loss,val_accuracy,val_prec,val_rec,lr\n",
      "50/50 [==============================] - 39s 773ms/step - loss: 0.5317 - accuracy: 0.8331 - prec: 0.8845 - rec: 0.7581 - val_loss: 0.4905 - val_accuracy: 0.8612 - val_prec: 0.9087 - val_rec: 0.8125\n",
      "\n",
      "Epoch 00051: LearningRateScheduler reducing learning rate to tf.Tensor(1.005184e-05, shape=(), dtype=float32).\n",
      "Epoch 51/100\n",
      "50/50 [==============================] - ETA: 0s - loss: 0.5190 - accuracy: 0.8431 - prec: 0.8963 - rec: 0.7706WARNING:tensorflow:Early stopping conditioned on metric `val_acc` which is not available. Available metrics are: loss,accuracy,prec,rec,val_loss,val_accuracy,val_prec,val_rec,lr\n",
      "50/50 [==============================] - 32s 633ms/step - loss: 0.5190 - accuracy: 0.8431 - prec: 0.8963 - rec: 0.7706 - val_loss: 0.5470 - val_accuracy: 0.8475 - val_prec: 0.8948 - val_rec: 0.8000\n",
      "\n",
      "Epoch 00052: LearningRateScheduler reducing learning rate to tf.Tensor(9.095281e-06, shape=(), dtype=float32).\n",
      "Epoch 52/100\n",
      "50/50 [==============================] - ETA: 0s - loss: 0.5208 - accuracy: 0.8456 - prec: 0.9013 - rec: 0.7781WARNING:tensorflow:Early stopping conditioned on metric `val_acc` which is not available. Available metrics are: loss,accuracy,prec,rec,val_loss,val_accuracy,val_prec,val_rec,lr\n",
      "50/50 [==============================] - 32s 638ms/step - loss: 0.5208 - accuracy: 0.8456 - prec: 0.9013 - rec: 0.7781 - val_loss: 0.6297 - val_accuracy: 0.8225 - val_prec: 0.8802 - val_rec: 0.7700\n",
      "\n",
      "Epoch 00053: LearningRateScheduler reducing learning rate to tf.Tensor(8.22975e-06, shape=(), dtype=float32).\n",
      "Epoch 53/100\n",
      "50/50 [==============================] - ETA: 0s - loss: 0.5371 - accuracy: 0.8400 - prec: 0.8942 - rec: 0.7613WARNING:tensorflow:Early stopping conditioned on metric `val_acc` which is not available. Available metrics are: loss,accuracy,prec,rec,val_loss,val_accuracy,val_prec,val_rec,lr\n",
      "50/50 [==============================] - 31s 626ms/step - loss: 0.5371 - accuracy: 0.8400 - prec: 0.8942 - rec: 0.7613 - val_loss: 0.5222 - val_accuracy: 0.8575 - val_prec: 0.9103 - val_rec: 0.8075\n",
      "\n",
      "Epoch 00054: LearningRateScheduler reducing learning rate to tf.Tensor(7.446586e-06, shape=(), dtype=float32).\n",
      "Epoch 54/100\n",
      "50/50 [==============================] - ETA: 0s - loss: 0.5095 - accuracy: 0.8394 - prec: 0.9021 - rec: 0.7650WARNING:tensorflow:Early stopping conditioned on metric `val_acc` which is not available. Available metrics are: loss,accuracy,prec,rec,val_loss,val_accuracy,val_prec,val_rec,lr\n",
      "50/50 [==============================] - 31s 628ms/step - loss: 0.5095 - accuracy: 0.8394 - prec: 0.9021 - rec: 0.7650 - val_loss: 0.5367 - val_accuracy: 0.8475 - val_prec: 0.8990 - val_rec: 0.7862\n",
      "\n",
      "Epoch 00055: LearningRateScheduler reducing learning rate to tf.Tensor(6.7379497e-06, shape=(), dtype=float32).\n",
      "Epoch 55/100\n",
      "50/50 [==============================] - ETA: 0s - loss: 0.4817 - accuracy: 0.8537 - prec: 0.9082 - rec: 0.7856WARNING:tensorflow:Early stopping conditioned on metric `val_acc` which is not available. Available metrics are: loss,accuracy,prec,rec,val_loss,val_accuracy,val_prec,val_rec,lr\n",
      "50/50 [==============================] - 32s 639ms/step - loss: 0.4817 - accuracy: 0.8537 - prec: 0.9082 - rec: 0.7856 - val_loss: 0.5342 - val_accuracy: 0.8612 - val_prec: 0.9108 - val_rec: 0.8150\n",
      "\n",
      "Epoch 00056: LearningRateScheduler reducing learning rate to tf.Tensor(6.096749e-06, shape=(), dtype=float32).\n",
      "Epoch 56/100\n",
      "50/50 [==============================] - ETA: 0s - loss: 0.4687 - accuracy: 0.8625 - prec: 0.9116 - rec: 0.7981WARNING:tensorflow:Early stopping conditioned on metric `val_acc` which is not available. Available metrics are: loss,accuracy,prec,rec,val_loss,val_accuracy,val_prec,val_rec,lr\n",
      "50/50 [==============================] - 32s 632ms/step - loss: 0.4687 - accuracy: 0.8625 - prec: 0.9116 - rec: 0.7981 - val_loss: 0.5634 - val_accuracy: 0.8438 - val_prec: 0.8830 - val_rec: 0.7862\n",
      "\n",
      "Epoch 00057: LearningRateScheduler reducing learning rate to tf.Tensor(5.516567e-06, shape=(), dtype=float32).\n",
      "Epoch 57/100\n",
      "50/50 [==============================] - ETA: 0s - loss: 0.5307 - accuracy: 0.8344 - prec: 0.8905 - rec: 0.7694WARNING:tensorflow:Early stopping conditioned on metric `val_acc` which is not available. Available metrics are: loss,accuracy,prec,rec,val_loss,val_accuracy,val_prec,val_rec,lr\n",
      "50/50 [==============================] - 31s 628ms/step - loss: 0.5307 - accuracy: 0.8344 - prec: 0.8905 - rec: 0.7694 - val_loss: 0.5372 - val_accuracy: 0.8500 - val_prec: 0.8954 - val_rec: 0.7850\n",
      "\n",
      "Epoch 00058: LearningRateScheduler reducing learning rate to tf.Tensor(4.991596e-06, shape=(), dtype=float32).\n",
      "Epoch 58/100\n",
      "50/50 [==============================] - ETA: 0s - loss: 0.5251 - accuracy: 0.8344 - prec: 0.8855 - rec: 0.7681WARNING:tensorflow:Early stopping conditioned on metric `val_acc` which is not available. Available metrics are: loss,accuracy,prec,rec,val_loss,val_accuracy,val_prec,val_rec,lr\n",
      "50/50 [==============================] - 32s 635ms/step - loss: 0.5251 - accuracy: 0.8344 - prec: 0.8855 - rec: 0.7681 - val_loss: 0.5869 - val_accuracy: 0.8575 - val_prec: 0.9099 - val_rec: 0.7987\n",
      "\n",
      "Epoch 00059: LearningRateScheduler reducing learning rate to tf.Tensor(4.516583e-06, shape=(), dtype=float32).\n",
      "Epoch 59/100\n",
      "50/50 [==============================] - ETA: 0s - loss: 0.5314 - accuracy: 0.8319 - prec: 0.8962 - rec: 0.7788WARNING:tensorflow:Early stopping conditioned on metric `val_acc` which is not available. Available metrics are: loss,accuracy,prec,rec,val_loss,val_accuracy,val_prec,val_rec,lr\n",
      "50/50 [==============================] - 31s 629ms/step - loss: 0.5314 - accuracy: 0.8319 - prec: 0.8962 - rec: 0.7788 - val_loss: 0.5493 - val_accuracy: 0.8550 - val_prec: 0.9014 - val_rec: 0.8025\n",
      "\n",
      "Epoch 00060: LearningRateScheduler reducing learning rate to tf.Tensor(4.0867735e-06, shape=(), dtype=float32).\n",
      "Epoch 60/100\n",
      "50/50 [==============================] - ETA: 0s - loss: 0.4973 - accuracy: 0.8400 - prec: 0.9008 - rec: 0.7856WARNING:tensorflow:Early stopping conditioned on metric `val_acc` which is not available. Available metrics are: loss,accuracy,prec,rec,val_loss,val_accuracy,val_prec,val_rec,lr\n",
      "50/50 [==============================] - 32s 632ms/step - loss: 0.4973 - accuracy: 0.8400 - prec: 0.9008 - rec: 0.7856 - val_loss: 0.5448 - val_accuracy: 0.8475 - val_prec: 0.8985 - val_rec: 0.7975\n",
      "\n",
      "Epoch 00061: LearningRateScheduler reducing learning rate to tf.Tensor(3.6978656e-06, shape=(), dtype=float32).\n",
      "Epoch 61/100\n",
      "50/50 [==============================] - ETA: 0s - loss: 0.4875 - accuracy: 0.8500 - prec: 0.9009 - rec: 0.7806WARNING:tensorflow:Early stopping conditioned on metric `val_acc` which is not available. Available metrics are: loss,accuracy,prec,rec,val_loss,val_accuracy,val_prec,val_rec,lr\n",
      "50/50 [==============================] - 32s 640ms/step - loss: 0.4875 - accuracy: 0.8500 - prec: 0.9009 - rec: 0.7806 - val_loss: 0.5117 - val_accuracy: 0.8650 - val_prec: 0.9135 - val_rec: 0.8050\n",
      "\n",
      "Epoch 00062: LearningRateScheduler reducing learning rate to tf.Tensor(3.3459671e-06, shape=(), dtype=float32).\n",
      "Epoch 62/100\n",
      "50/50 [==============================] - ETA: 0s - loss: 0.5308 - accuracy: 0.8381 - prec: 0.8893 - rec: 0.7837WARNING:tensorflow:Early stopping conditioned on metric `val_acc` which is not available. Available metrics are: loss,accuracy,prec,rec,val_loss,val_accuracy,val_prec,val_rec,lr\n",
      "50/50 [==============================] - 37s 731ms/step - loss: 0.5308 - accuracy: 0.8381 - prec: 0.8893 - rec: 0.7837 - val_loss: 0.4996 - val_accuracy: 0.8637 - val_prec: 0.9096 - val_rec: 0.7887\n",
      "\n",
      "Epoch 00063: LearningRateScheduler reducing learning rate to tf.Tensor(3.0275562e-06, shape=(), dtype=float32).\n",
      "Epoch 63/100\n",
      "50/50 [==============================] - ETA: 0s - loss: 0.4791 - accuracy: 0.8587 - prec: 0.9094 - rec: 0.7869WARNING:tensorflow:Early stopping conditioned on metric `val_acc` which is not available. Available metrics are: loss,accuracy,prec,rec,val_loss,val_accuracy,val_prec,val_rec,lr\n",
      "50/50 [==============================] - 32s 632ms/step - loss: 0.4791 - accuracy: 0.8587 - prec: 0.9094 - rec: 0.7869 - val_loss: 0.5497 - val_accuracy: 0.8512 - val_prec: 0.9086 - val_rec: 0.7975\n",
      "\n",
      "Epoch 00064: LearningRateScheduler reducing learning rate to tf.Tensor(2.7394462e-06, shape=(), dtype=float32).\n",
      "Epoch 64/100\n",
      "50/50 [==============================] - ETA: 0s - loss: 0.4938 - accuracy: 0.8413 - prec: 0.8956 - rec: 0.7837WARNING:tensorflow:Early stopping conditioned on metric `val_acc` which is not available. Available metrics are: loss,accuracy,prec,rec,val_loss,val_accuracy,val_prec,val_rec,lr\n",
      "50/50 [==============================] - 32s 649ms/step - loss: 0.4938 - accuracy: 0.8413 - prec: 0.8956 - rec: 0.7837 - val_loss: 0.5746 - val_accuracy: 0.8550 - val_prec: 0.8974 - val_rec: 0.8075\n",
      "\n",
      "Epoch 00065: LearningRateScheduler reducing learning rate to tf.Tensor(2.4787535e-06, shape=(), dtype=float32).\n",
      "Epoch 65/100\n",
      "50/50 [==============================] - ETA: 0s - loss: 0.4897 - accuracy: 0.8525 - prec: 0.9009 - rec: 0.7875WARNING:tensorflow:Early stopping conditioned on metric `val_acc` which is not available. Available metrics are: loss,accuracy,prec,rec,val_loss,val_accuracy,val_prec,val_rec,lr\n",
      "50/50 [==============================] - 32s 640ms/step - loss: 0.4897 - accuracy: 0.8525 - prec: 0.9009 - rec: 0.7875 - val_loss: 0.5469 - val_accuracy: 0.8637 - val_prec: 0.9124 - val_rec: 0.8087\n",
      "\n",
      "Epoch 00066: LearningRateScheduler reducing learning rate to tf.Tensor(2.242869e-06, shape=(), dtype=float32).\n",
      "Epoch 66/100\n",
      "50/50 [==============================] - ETA: 0s - loss: 0.5100 - accuracy: 0.8325 - prec: 0.8865 - rec: 0.7688WARNING:tensorflow:Early stopping conditioned on metric `val_acc` which is not available. Available metrics are: loss,accuracy,prec,rec,val_loss,val_accuracy,val_prec,val_rec,lr\n",
      "50/50 [==============================] - 32s 637ms/step - loss: 0.5100 - accuracy: 0.8325 - prec: 0.8865 - rec: 0.7688 - val_loss: 0.5783 - val_accuracy: 0.8462 - val_prec: 0.8941 - val_rec: 0.7825\n",
      "\n",
      "Epoch 00067: LearningRateScheduler reducing learning rate to tf.Tensor(2.0294317e-06, shape=(), dtype=float32).\n",
      "Epoch 67/100\n",
      "50/50 [==============================] - ETA: 0s - loss: 0.4875 - accuracy: 0.8508 - prec: 0.8995 - rec: 0.7810WARNING:tensorflow:Early stopping conditioned on metric `val_acc` which is not available. Available metrics are: loss,accuracy,prec,rec,val_loss,val_accuracy,val_prec,val_rec,lr\n",
      "50/50 [==============================] - 31s 627ms/step - loss: 0.4875 - accuracy: 0.8508 - prec: 0.8995 - rec: 0.7810 - val_loss: 0.5493 - val_accuracy: 0.8600 - val_prec: 0.8984 - val_rec: 0.8000\n",
      "\n",
      "Epoch 00068: LearningRateScheduler reducing learning rate to tf.Tensor(1.8363057e-06, shape=(), dtype=float32).\n",
      "Epoch 68/100\n",
      "50/50 [==============================] - ETA: 0s - loss: 0.5212 - accuracy: 0.8400 - prec: 0.8950 - rec: 0.7694WARNING:tensorflow:Early stopping conditioned on metric `val_acc` which is not available. Available metrics are: loss,accuracy,prec,rec,val_loss,val_accuracy,val_prec,val_rec,lr\n",
      "50/50 [==============================] - 32s 633ms/step - loss: 0.5212 - accuracy: 0.8400 - prec: 0.8950 - rec: 0.7694 - val_loss: 0.5491 - val_accuracy: 0.8500 - val_prec: 0.8926 - val_rec: 0.7950\n",
      "\n",
      "Epoch 00069: LearningRateScheduler reducing learning rate to tf.Tensor(1.6615581e-06, shape=(), dtype=float32).\n",
      "Epoch 69/100\n",
      "50/50 [==============================] - ETA: 0s - loss: 0.5129 - accuracy: 0.8363 - prec: 0.8926 - rec: 0.7731WARNING:tensorflow:Early stopping conditioned on metric `val_acc` which is not available. Available metrics are: loss,accuracy,prec,rec,val_loss,val_accuracy,val_prec,val_rec,lr\n",
      "50/50 [==============================] - 32s 631ms/step - loss: 0.5129 - accuracy: 0.8363 - prec: 0.8926 - rec: 0.7731 - val_loss: 0.5210 - val_accuracy: 0.8550 - val_prec: 0.9018 - val_rec: 0.8012\n",
      "\n",
      "Epoch 00070: LearningRateScheduler reducing learning rate to tf.Tensor(1.50344e-06, shape=(), dtype=float32).\n",
      "Epoch 70/100\n",
      "50/50 [==============================] - ETA: 0s - loss: 0.5039 - accuracy: 0.8531 - prec: 0.9060 - rec: 0.7825WARNING:tensorflow:Early stopping conditioned on metric `val_acc` which is not available. Available metrics are: loss,accuracy,prec,rec,val_loss,val_accuracy,val_prec,val_rec,lr\n",
      "50/50 [==============================] - 32s 633ms/step - loss: 0.5039 - accuracy: 0.8531 - prec: 0.9060 - rec: 0.7825 - val_loss: 0.4788 - val_accuracy: 0.8725 - val_prec: 0.9206 - val_rec: 0.8300\n",
      "\n",
      "Epoch 00071: LearningRateScheduler reducing learning rate to tf.Tensor(1.3603687e-06, shape=(), dtype=float32).\n",
      "Epoch 71/100\n",
      "50/50 [==============================] - ETA: 0s - loss: 0.5439 - accuracy: 0.8319 - prec: 0.8845 - rec: 0.7575WARNING:tensorflow:Early stopping conditioned on metric `val_acc` which is not available. Available metrics are: loss,accuracy,prec,rec,val_loss,val_accuracy,val_prec,val_rec,lr\n",
      "50/50 [==============================] - 33s 656ms/step - loss: 0.5439 - accuracy: 0.8319 - prec: 0.8845 - rec: 0.7575 - val_loss: 0.4988 - val_accuracy: 0.8512 - val_prec: 0.9001 - val_rec: 0.7987\n",
      "\n",
      "Epoch 00072: LearningRateScheduler reducing learning rate to tf.Tensor(1.2309125e-06, shape=(), dtype=float32).\n",
      "Epoch 72/100\n",
      "50/50 [==============================] - ETA: 0s - loss: 0.4902 - accuracy: 0.8469 - prec: 0.9044 - rec: 0.7800WARNING:tensorflow:Early stopping conditioned on metric `val_acc` which is not available. Available metrics are: loss,accuracy,prec,rec,val_loss,val_accuracy,val_prec,val_rec,lr\n",
      "50/50 [==============================] - 32s 631ms/step - loss: 0.4902 - accuracy: 0.8469 - prec: 0.9044 - rec: 0.7800 - val_loss: 0.5482 - val_accuracy: 0.8512 - val_prec: 0.8999 - val_rec: 0.7900\n",
      "\n",
      "Epoch 00073: LearningRateScheduler reducing learning rate to tf.Tensor(1.1137757e-06, shape=(), dtype=float32).\n",
      "Epoch 73/100\n",
      "50/50 [==============================] - ETA: 0s - loss: 0.4926 - accuracy: 0.8444 - prec: 0.8950 - rec: 0.7875WARNING:tensorflow:Early stopping conditioned on metric `val_acc` which is not available. Available metrics are: loss,accuracy,prec,rec,val_loss,val_accuracy,val_prec,val_rec,lr\n",
      "50/50 [==============================] - 31s 626ms/step - loss: 0.4926 - accuracy: 0.8444 - prec: 0.8950 - rec: 0.7875 - val_loss: 0.5459 - val_accuracy: 0.8562 - val_prec: 0.9092 - val_rec: 0.8000\n",
      "\n",
      "Epoch 00074: LearningRateScheduler reducing learning rate to tf.Tensor(1.007786e-06, shape=(), dtype=float32).\n",
      "Epoch 74/100\n",
      "50/50 [==============================] - ETA: 0s - loss: 0.4931 - accuracy: 0.8462 - prec: 0.9009 - rec: 0.7794WARNING:tensorflow:Early stopping conditioned on metric `val_acc` which is not available. Available metrics are: loss,accuracy,prec,rec,val_loss,val_accuracy,val_prec,val_rec,lr\n",
      "50/50 [==============================] - 31s 629ms/step - loss: 0.4931 - accuracy: 0.8462 - prec: 0.9009 - rec: 0.7794 - val_loss: 0.5557 - val_accuracy: 0.8388 - val_prec: 0.9007 - val_rec: 0.7775\n",
      "\n",
      "Epoch 00075: LearningRateScheduler reducing learning rate to tf.Tensor(9.1188247e-07, shape=(), dtype=float32).\n",
      "Epoch 75/100\n",
      "50/50 [==============================] - ETA: 0s - loss: 0.5173 - accuracy: 0.8288 - prec: 0.8766 - rec: 0.7606WARNING:tensorflow:Early stopping conditioned on metric `val_acc` which is not available. Available metrics are: loss,accuracy,prec,rec,val_loss,val_accuracy,val_prec,val_rec,lr\n",
      "50/50 [==============================] - 31s 623ms/step - loss: 0.5173 - accuracy: 0.8288 - prec: 0.8766 - rec: 0.7606 - val_loss: 0.4247 - val_accuracy: 0.8825 - val_prec: 0.9264 - val_rec: 0.8325\n",
      "\n",
      "Epoch 00076: LearningRateScheduler reducing learning rate to tf.Tensor(8.2510536e-07, shape=(), dtype=float32).\n",
      "Epoch 76/100\n",
      "50/50 [==============================] - ETA: 0s - loss: 0.5420 - accuracy: 0.8244 - prec: 0.8743 - rec: 0.7644WARNING:tensorflow:Early stopping conditioned on metric `val_acc` which is not available. Available metrics are: loss,accuracy,prec,rec,val_loss,val_accuracy,val_prec,val_rec,lr\n",
      "50/50 [==============================] - 31s 625ms/step - loss: 0.5420 - accuracy: 0.8244 - prec: 0.8743 - rec: 0.7644 - val_loss: 0.5049 - val_accuracy: 0.8650 - val_prec: 0.9022 - val_rec: 0.8188\n",
      "\n",
      "Epoch 00077: LearningRateScheduler reducing learning rate to tf.Tensor(7.4658624e-07, shape=(), dtype=float32).\n",
      "Epoch 77/100\n",
      "50/50 [==============================] - ETA: 0s - loss: 0.5462 - accuracy: 0.8269 - prec: 0.8897 - rec: 0.7556WARNING:tensorflow:Early stopping conditioned on metric `val_acc` which is not available. Available metrics are: loss,accuracy,prec,rec,val_loss,val_accuracy,val_prec,val_rec,lr\n",
      "50/50 [==============================] - 32s 631ms/step - loss: 0.5462 - accuracy: 0.8269 - prec: 0.8897 - rec: 0.7556 - val_loss: 0.5939 - val_accuracy: 0.8325 - val_prec: 0.8815 - val_rec: 0.7750\n",
      "\n",
      "Epoch 00078: LearningRateScheduler reducing learning rate to tf.Tensor(6.755392e-07, shape=(), dtype=float32).\n",
      "Epoch 78/100\n",
      "50/50 [==============================] - ETA: 0s - loss: 0.5226 - accuracy: 0.8331 - prec: 0.8909 - rec: 0.7569WARNING:tensorflow:Early stopping conditioned on metric `val_acc` which is not available. Available metrics are: loss,accuracy,prec,rec,val_loss,val_accuracy,val_prec,val_rec,lr\n",
      "50/50 [==============================] - 31s 624ms/step - loss: 0.5226 - accuracy: 0.8331 - prec: 0.8909 - rec: 0.7569 - val_loss: 0.5221 - val_accuracy: 0.8475 - val_prec: 0.9001 - val_rec: 0.7912\n",
      "\n",
      "Epoch 00079: LearningRateScheduler reducing learning rate to tf.Tensor(6.1125314e-07, shape=(), dtype=float32).\n",
      "Epoch 79/100\n",
      "50/50 [==============================] - ETA: 0s - loss: 0.4771 - accuracy: 0.8338 - prec: 0.8946 - rec: 0.7788WARNING:tensorflow:Early stopping conditioned on metric `val_acc` which is not available. Available metrics are: loss,accuracy,prec,rec,val_loss,val_accuracy,val_prec,val_rec,lr\n",
      "50/50 [==============================] - 32s 642ms/step - loss: 0.4771 - accuracy: 0.8338 - prec: 0.8946 - rec: 0.7788 - val_loss: 0.5675 - val_accuracy: 0.8438 - val_prec: 0.8959 - val_rec: 0.7925\n",
      "\n",
      "Epoch 00080: LearningRateScheduler reducing learning rate to tf.Tensor(5.530847e-07, shape=(), dtype=float32).\n",
      "Epoch 80/100\n",
      "50/50 [==============================] - ETA: 0s - loss: 0.5203 - accuracy: 0.8375 - prec: 0.8893 - rec: 0.7756WARNING:tensorflow:Early stopping conditioned on metric `val_acc` which is not available. Available metrics are: loss,accuracy,prec,rec,val_loss,val_accuracy,val_prec,val_rec,lr\n",
      "50/50 [==============================] - 32s 630ms/step - loss: 0.5203 - accuracy: 0.8375 - prec: 0.8893 - rec: 0.7756 - val_loss: 0.5201 - val_accuracy: 0.8487 - val_prec: 0.9017 - val_rec: 0.7950\n",
      "\n",
      "Epoch 00081: LearningRateScheduler reducing learning rate to tf.Tensor(5.0045173e-07, shape=(), dtype=float32).\n",
      "Epoch 81/100\n",
      "50/50 [==============================] - ETA: 0s - loss: 0.4815 - accuracy: 0.8519 - prec: 0.8952 - rec: 0.7769WARNING:tensorflow:Early stopping conditioned on metric `val_acc` which is not available. Available metrics are: loss,accuracy,prec,rec,val_loss,val_accuracy,val_prec,val_rec,lr\n",
      "50/50 [==============================] - 33s 659ms/step - loss: 0.4815 - accuracy: 0.8519 - prec: 0.8952 - rec: 0.7769 - val_loss: 0.4978 - val_accuracy: 0.8712 - val_prec: 0.9187 - val_rec: 0.8250\n",
      "\n",
      "Epoch 00082: LearningRateScheduler reducing learning rate to tf.Tensor(4.5282746e-07, shape=(), dtype=float32).\n",
      "Epoch 82/100\n",
      "50/50 [==============================] - ETA: 0s - loss: 0.5295 - accuracy: 0.8338 - prec: 0.8933 - rec: 0.7538WARNING:tensorflow:Early stopping conditioned on metric `val_acc` which is not available. Available metrics are: loss,accuracy,prec,rec,val_loss,val_accuracy,val_prec,val_rec,lr\n",
      "50/50 [==============================] - 32s 645ms/step - loss: 0.5295 - accuracy: 0.8338 - prec: 0.8933 - rec: 0.7538 - val_loss: 0.5387 - val_accuracy: 0.8600 - val_prec: 0.9142 - val_rec: 0.8188\n",
      "\n",
      "Epoch 00083: LearningRateScheduler reducing learning rate to tf.Tensor(4.0973524e-07, shape=(), dtype=float32).\n",
      "Epoch 83/100\n",
      "50/50 [==============================] - ETA: 0s - loss: 0.4900 - accuracy: 0.8487 - prec: 0.9039 - rec: 0.7856WARNING:tensorflow:Early stopping conditioned on metric `val_acc` which is not available. Available metrics are: loss,accuracy,prec,rec,val_loss,val_accuracy,val_prec,val_rec,lr\n",
      "50/50 [==============================] - 33s 655ms/step - loss: 0.4900 - accuracy: 0.8487 - prec: 0.9039 - rec: 0.7856 - val_loss: 0.5351 - val_accuracy: 0.8512 - val_prec: 0.9095 - val_rec: 0.8037\n",
      "\n",
      "Epoch 00084: LearningRateScheduler reducing learning rate to tf.Tensor(3.7074378e-07, shape=(), dtype=float32).\n",
      "Epoch 84/100\n",
      "50/50 [==============================] - ETA: 0s - loss: 0.5035 - accuracy: 0.8394 - prec: 0.8941 - rec: 0.7731WARNING:tensorflow:Early stopping conditioned on metric `val_acc` which is not available. Available metrics are: loss,accuracy,prec,rec,val_loss,val_accuracy,val_prec,val_rec,lr\n",
      "50/50 [==============================] - 31s 628ms/step - loss: 0.5035 - accuracy: 0.8394 - prec: 0.8941 - rec: 0.7731 - val_loss: 0.5024 - val_accuracy: 0.8475 - val_prec: 0.9006 - val_rec: 0.7837\n",
      "\n",
      "Epoch 00085: LearningRateScheduler reducing learning rate to tf.Tensor(3.3546286e-07, shape=(), dtype=float32).\n",
      "Epoch 85/100\n",
      "50/50 [==============================] - ETA: 0s - loss: 0.4795 - accuracy: 0.8419 - prec: 0.8995 - rec: 0.7856WARNING:tensorflow:Early stopping conditioned on metric `val_acc` which is not available. Available metrics are: loss,accuracy,prec,rec,val_loss,val_accuracy,val_prec,val_rec,lr\n",
      "50/50 [==============================] - 31s 627ms/step - loss: 0.4795 - accuracy: 0.8419 - prec: 0.8995 - rec: 0.7856 - val_loss: 0.5480 - val_accuracy: 0.8525 - val_prec: 0.9105 - val_rec: 0.7800\n",
      "\n",
      "Epoch 00086: LearningRateScheduler reducing learning rate to tf.Tensor(3.0353934e-07, shape=(), dtype=float32).\n",
      "Epoch 86/100\n",
      "50/50 [==============================] - ETA: 0s - loss: 0.5098 - accuracy: 0.8338 - prec: 0.8978 - rec: 0.7756WARNING:tensorflow:Early stopping conditioned on metric `val_acc` which is not available. Available metrics are: loss,accuracy,prec,rec,val_loss,val_accuracy,val_prec,val_rec,lr\n",
      "50/50 [==============================] - 31s 629ms/step - loss: 0.5098 - accuracy: 0.8338 - prec: 0.8978 - rec: 0.7756 - val_loss: 0.5457 - val_accuracy: 0.8475 - val_prec: 0.9004 - val_rec: 0.7925\n",
      "\n",
      "Epoch 00087: LearningRateScheduler reducing learning rate to tf.Tensor(2.7465376e-07, shape=(), dtype=float32).\n",
      "Epoch 87/100\n",
      "50/50 [==============================] - ETA: 0s - loss: 0.5686 - accuracy: 0.8294 - prec: 0.8847 - rec: 0.7588WARNING:tensorflow:Early stopping conditioned on metric `val_acc` which is not available. Available metrics are: loss,accuracy,prec,rec,val_loss,val_accuracy,val_prec,val_rec,lr\n",
      "50/50 [==============================] - 31s 626ms/step - loss: 0.5686 - accuracy: 0.8294 - prec: 0.8847 - rec: 0.7588 - val_loss: 0.5562 - val_accuracy: 0.8388 - val_prec: 0.8852 - val_rec: 0.7925\n",
      "\n",
      "Epoch 00088: LearningRateScheduler reducing learning rate to tf.Tensor(2.48517e-07, shape=(), dtype=float32).\n",
      "Epoch 88/100\n",
      "50/50 [==============================] - ETA: 0s - loss: 0.4811 - accuracy: 0.8469 - prec: 0.9028 - rec: 0.7794WARNING:tensorflow:Early stopping conditioned on metric `val_acc` which is not available. Available metrics are: loss,accuracy,prec,rec,val_loss,val_accuracy,val_prec,val_rec,lr\n",
      "50/50 [==============================] - 32s 632ms/step - loss: 0.4811 - accuracy: 0.8469 - prec: 0.9028 - rec: 0.7794 - val_loss: 0.4772 - val_accuracy: 0.8775 - val_prec: 0.9283 - val_rec: 0.8238\n",
      "\n",
      "Epoch 00089: LearningRateScheduler reducing learning rate to tf.Tensor(2.2486749e-07, shape=(), dtype=float32).\n",
      "Epoch 89/100\n",
      "50/50 [==============================] - ETA: 0s - loss: 0.5010 - accuracy: 0.8381 - prec: 0.8964 - rec: 0.7744WARNING:tensorflow:Early stopping conditioned on metric `val_acc` which is not available. Available metrics are: loss,accuracy,prec,rec,val_loss,val_accuracy,val_prec,val_rec,lr\n",
      "50/50 [==============================] - 31s 627ms/step - loss: 0.5010 - accuracy: 0.8381 - prec: 0.8964 - rec: 0.7744 - val_loss: 0.5327 - val_accuracy: 0.8550 - val_prec: 0.9176 - val_rec: 0.8062\n",
      "\n",
      "Epoch 00090: LearningRateScheduler reducing learning rate to tf.Tensor(2.0346852e-07, shape=(), dtype=float32).\n",
      "Epoch 90/100\n",
      "50/50 [==============================] - ETA: 0s - loss: 0.5067 - accuracy: 0.8369 - prec: 0.8950 - rec: 0.7744WARNING:tensorflow:Early stopping conditioned on metric `val_acc` which is not available. Available metrics are: loss,accuracy,prec,rec,val_loss,val_accuracy,val_prec,val_rec,lr\n",
      "50/50 [==============================] - 32s 632ms/step - loss: 0.5067 - accuracy: 0.8369 - prec: 0.8950 - rec: 0.7744 - val_loss: 0.5432 - val_accuracy: 0.8587 - val_prec: 0.9031 - val_rec: 0.7887\n",
      "\n",
      "Epoch 00091: LearningRateScheduler reducing learning rate to tf.Tensor(1.8410593e-07, shape=(), dtype=float32).\n",
      "Epoch 91/100\n",
      "50/50 [==============================] - ETA: 0s - loss: 0.4885 - accuracy: 0.8406 - prec: 0.9000 - rec: 0.7719WARNING:tensorflow:Early stopping conditioned on metric `val_acc` which is not available. Available metrics are: loss,accuracy,prec,rec,val_loss,val_accuracy,val_prec,val_rec,lr\n",
      "50/50 [==============================] - 32s 642ms/step - loss: 0.4885 - accuracy: 0.8406 - prec: 0.9000 - rec: 0.7719 - val_loss: 0.5182 - val_accuracy: 0.8487 - val_prec: 0.9004 - val_rec: 0.7975\n",
      "\n",
      "Epoch 00092: LearningRateScheduler reducing learning rate to tf.Tensor(1.6658593e-07, shape=(), dtype=float32).\n",
      "Epoch 92/100\n",
      "50/50 [==============================] - ETA: 0s - loss: 0.5215 - accuracy: 0.8369 - prec: 0.8982 - rec: 0.7713WARNING:tensorflow:Early stopping conditioned on metric `val_acc` which is not available. Available metrics are: loss,accuracy,prec,rec,val_loss,val_accuracy,val_prec,val_rec,lr\n",
      "50/50 [==============================] - 32s 633ms/step - loss: 0.5215 - accuracy: 0.8369 - prec: 0.8982 - rec: 0.7713 - val_loss: 0.5579 - val_accuracy: 0.8350 - val_prec: 0.8824 - val_rec: 0.7812\n",
      "\n",
      "Epoch 00093: LearningRateScheduler reducing learning rate to tf.Tensor(1.5073319e-07, shape=(), dtype=float32).\n",
      "Epoch 93/100\n",
      "50/50 [==============================] - ETA: 0s - loss: 0.5102 - accuracy: 0.8487 - prec: 0.9048 - rec: 0.7731WARNING:tensorflow:Early stopping conditioned on metric `val_acc` which is not available. Available metrics are: loss,accuracy,prec,rec,val_loss,val_accuracy,val_prec,val_rec,lr\n",
      "50/50 [==============================] - 32s 632ms/step - loss: 0.5102 - accuracy: 0.8487 - prec: 0.9048 - rec: 0.7731 - val_loss: 0.5292 - val_accuracy: 0.8625 - val_prec: 0.9089 - val_rec: 0.8075\n",
      "\n",
      "Epoch 00094: LearningRateScheduler reducing learning rate to tf.Tensor(1.3638903e-07, shape=(), dtype=float32).\n",
      "Epoch 94/100\n",
      "50/50 [==============================] - ETA: 0s - loss: 0.5294 - accuracy: 0.8413 - prec: 0.8944 - rec: 0.7631WARNING:tensorflow:Early stopping conditioned on metric `val_acc` which is not available. Available metrics are: loss,accuracy,prec,rec,val_loss,val_accuracy,val_prec,val_rec,lr\n",
      "50/50 [==============================] - 31s 627ms/step - loss: 0.5294 - accuracy: 0.8413 - prec: 0.8944 - rec: 0.7631 - val_loss: 0.4775 - val_accuracy: 0.8650 - val_prec: 0.9169 - val_rec: 0.8200\n",
      "\n",
      "Epoch 00095: LearningRateScheduler reducing learning rate to tf.Tensor(1.234099e-07, shape=(), dtype=float32).\n",
      "Epoch 95/100\n",
      "50/50 [==============================] - ETA: 0s - loss: 0.4996 - accuracy: 0.8413 - prec: 0.8977 - rec: 0.7769WARNING:tensorflow:Early stopping conditioned on metric `val_acc` which is not available. Available metrics are: loss,accuracy,prec,rec,val_loss,val_accuracy,val_prec,val_rec,lr\n",
      "50/50 [==============================] - 31s 624ms/step - loss: 0.4996 - accuracy: 0.8413 - prec: 0.8977 - rec: 0.7769 - val_loss: 0.5769 - val_accuracy: 0.8450 - val_prec: 0.8984 - val_rec: 0.7912\n",
      "\n",
      "Epoch 00096: LearningRateScheduler reducing learning rate to tf.Tensor(1.116659e-07, shape=(), dtype=float32).\n",
      "Epoch 96/100\n",
      "50/50 [==============================] - ETA: 0s - loss: 0.5271 - accuracy: 0.8469 - prec: 0.8937 - rec: 0.7831WARNING:tensorflow:Early stopping conditioned on metric `val_acc` which is not available. Available metrics are: loss,accuracy,prec,rec,val_loss,val_accuracy,val_prec,val_rec,lr\n",
      "50/50 [==============================] - 31s 624ms/step - loss: 0.5271 - accuracy: 0.8469 - prec: 0.8937 - rec: 0.7831 - val_loss: 0.5333 - val_accuracy: 0.8462 - val_prec: 0.9003 - val_rec: 0.7925\n",
      "\n",
      "Epoch 00097: LearningRateScheduler reducing learning rate to tf.Tensor(1.0103948e-07, shape=(), dtype=float32).\n",
      "Epoch 97/100\n",
      "50/50 [==============================] - ETA: 0s - loss: 0.5387 - accuracy: 0.8300 - prec: 0.8875 - rec: 0.7606WARNING:tensorflow:Early stopping conditioned on metric `val_acc` which is not available. Available metrics are: loss,accuracy,prec,rec,val_loss,val_accuracy,val_prec,val_rec,lr\n",
      "50/50 [==============================] - 31s 621ms/step - loss: 0.5387 - accuracy: 0.8300 - prec: 0.8875 - rec: 0.7606 - val_loss: 0.5254 - val_accuracy: 0.8650 - val_prec: 0.9086 - val_rec: 0.8075\n",
      "\n",
      "Epoch 00098: LearningRateScheduler reducing learning rate to tf.Tensor(9.1424305e-08, shape=(), dtype=float32).\n",
      "Epoch 98/100\n",
      "50/50 [==============================] - ETA: 0s - loss: 0.4984 - accuracy: 0.8400 - prec: 0.8999 - rec: 0.7881WARNING:tensorflow:Early stopping conditioned on metric `val_acc` which is not available. Available metrics are: loss,accuracy,prec,rec,val_loss,val_accuracy,val_prec,val_rec,lr\n",
      "50/50 [==============================] - 31s 622ms/step - loss: 0.4984 - accuracy: 0.8400 - prec: 0.8999 - rec: 0.7881 - val_loss: 0.5037 - val_accuracy: 0.8725 - val_prec: 0.9144 - val_rec: 0.8087\n",
      "\n",
      "Epoch 00099: LearningRateScheduler reducing learning rate to tf.Tensor(8.2724135e-08, shape=(), dtype=float32).\n",
      "Epoch 99/100\n",
      "50/50 [==============================] - ETA: 0s - loss: 0.5275 - accuracy: 0.8356 - prec: 0.8880 - rec: 0.7731WARNING:tensorflow:Early stopping conditioned on metric `val_acc` which is not available. Available metrics are: loss,accuracy,prec,rec,val_loss,val_accuracy,val_prec,val_rec,lr\n",
      "50/50 [==============================] - 31s 621ms/step - loss: 0.5275 - accuracy: 0.8356 - prec: 0.8880 - rec: 0.7731 - val_loss: 0.5029 - val_accuracy: 0.8612 - val_prec: 0.9175 - val_rec: 0.8100\n",
      "\n",
      "Epoch 00100: LearningRateScheduler reducing learning rate to tf.Tensor(7.48519e-08, shape=(), dtype=float32).\n",
      "Epoch 100/100\n",
      "50/50 [==============================] - ETA: 0s - loss: 0.5426 - accuracy: 0.8238 - prec: 0.8713 - rec: 0.7544WARNING:tensorflow:Early stopping conditioned on metric `val_acc` which is not available. Available metrics are: loss,accuracy,prec,rec,val_loss,val_accuracy,val_prec,val_rec,lr\n",
      "50/50 [==============================] - 32s 644ms/step - loss: 0.5426 - accuracy: 0.8238 - prec: 0.8713 - rec: 0.7544 - val_loss: 0.5257 - val_accuracy: 0.8600 - val_prec: 0.9072 - val_rec: 0.7962\n",
      "\n",
      "Stop Training\n",
      "Duration Learning :  53.91196101109187\n"
     ]
    }
   ],
   "source": [
    "#Model Adam\n",
    "print(\"\\nStart Training Model Adam\\n\")\n",
    "start_time = time.time()\n",
    "with tf.device(\"/device:GPU:0\"):\n",
    "  history = model.fit(\n",
    "      Train_generator,\n",
    "      steps_per_epoch = 1600 // batch_size,\n",
    "      epochs = 100,\n",
    "      validation_data = Validation_generator,\n",
    "      validation_steps = 800 // batch_size,\n",
    "      callbacks =[lr_schedule, tb_callback, es, callbacks]\n",
    "  )\n",
    "print(\"\\nStop Training\")\n",
    "timeadamax = ((time.time() - start_time)/60)\n",
    "print(\"Duration Learning : \",((time.time() - start_time)/60))"
   ]
  },
  {
   "cell_type": "markdown",
   "metadata": {
    "id": "8WeT5vPeKKsN"
   },
   "source": [
    "Plot Accuracy, Loss, Precision dan Recall"
   ]
  },
  {
   "cell_type": "code",
   "execution_count": 19,
   "metadata": {
    "colab": {
     "base_uri": "https://localhost:8080/",
     "height": 1000
    },
    "id": "atHZ9EhCHrta",
    "outputId": "38945c58-c596-4fc6-d07f-c4ba941cc8a8"
   },
   "outputs": [
    {
     "data": {
      "image/png": "[encoded data removed]",
      "text/plain": [
       "<Figure size 432x288 with 1 Axes>"
      ]
     },
     "metadata": {
      "needs_background": "light",
      "tags": []
     },
     "output_type": "display_data"
    },
    {
     "data": {
      "image/png": "[encoded data removed]",
      "text/plain": [
       "<Figure size 432x288 with 1 Axes>"
      ]
     },
     "metadata": {
      "needs_background": "light",
      "tags": []
     },
     "output_type": "display_data"
    },
    {
     "data": {
      "image/png": "[encoded data removed]",
      "text/plain": [
       "<Figure size 432x288 with 1 Axes>"
      ]
     },
     "metadata": {
      "needs_background": "light",
      "tags": []
     },
     "output_type": "display_data"
    },
    {
     "data": {
      "image/png": "[encoded data removed]",
      "text/plain": [
       "<Figure size 432x288 with 1 Axes>"
      ]
     },
     "metadata": {
      "needs_background": "light",
      "tags": []
     },
     "output_type": "display_data"
    }
   ],
   "source": [
    "# visualisasi hasil data training\n",
    "new_colors = ['#1f77b4', '#ff7f0e', '#2ca02c', '#d62728','#9467bd', '#8c564b', '#e377c2', '#7f7f7f','#bcbd22', '#17becf']\n",
    "#Nadam\n",
    "acc_adam = history.history['accuracy']\n",
    "val_acc_adam = history.history['val_accuracy']\n",
    "loss_adam = history.history['loss']\n",
    "val_loss_adam = history.history['val_loss']\n",
    "prec_adam = history.history['prec']\n",
    "val_prec_adam = history.history['val_prec']\n",
    "rec_adam = history.history['rec']\n",
    "val_rec_adam = history.history['val_rec']\n",
    "\n",
    "# Visualisasi Accuracy Model\n",
    "plt.plot(acc_adam, label='Adam', color=new_colors[0],linewidth=2)\n",
    "plt.plot(val_acc_adam, label='val_Adam', color=new_colors[1],linewidth=2)\n",
    "plt.title('Model Accuracy Adam ')\n",
    "plt.ylabel('Accuracy')\n",
    "plt.xlabel('Epoch')\n",
    "plt.legend(loc='center left', bbox_to_anchor=(1, 0.5))\n",
    "plt.show()\n",
    "# Visualisasi Loss Model\n",
    "plt.plot(loss_adam, label='Adam', color=new_colors[0],linewidth=2)\n",
    "plt.plot(val_loss_adam, label='val_Adam', color=new_colors[1],linewidth=2)\n",
    "plt.title('Model Loss Adam')\n",
    "plt.ylabel('Loss')\n",
    "plt.xlabel('Epoch')\n",
    "plt.legend(loc='center left', bbox_to_anchor=(1, 0.5))\n",
    "plt.show()\n",
    "# Visualisasi Precision Model\n",
    "plt.plot(prec_adam, label='Adam', color=new_colors[0],linewidth=2)\n",
    "plt.plot(val_prec_adam, label='val_Adam', color=new_colors[1],linewidth=2)\n",
    "plt.title('Model Precision Adam')\n",
    "plt.ylabel('Precision')\n",
    "plt.xlabel('Epoch')\n",
    "plt.legend(loc='center left', bbox_to_anchor=(1, 0.5))\n",
    "plt.show()\n",
    "# Visualisasi Recall Model\n",
    "plt.plot(rec_adam, label='Adam', color=new_colors[0],linewidth=2)\n",
    "plt.plot(val_rec_adam, label='val_Adam', color=new_colors[1],linewidth=2)\n",
    "plt.title('Model Recall Adam')\n",
    "plt.ylabel('Recall')\n",
    "plt.xlabel('Epoch')\n",
    "plt.legend(loc='center left', bbox_to_anchor=(1, 0.5))\n",
    "plt.show()"
   ]
  },
  {
   "cell_type": "markdown",
   "metadata": {
    "id": "Wdj_LpBMLuT2"
   },
   "source": [
    "Export model Tflite"
   ]
  },
  {
   "cell_type": "code",
   "execution_count": 20,
   "metadata": {
    "colab": {
     "base_uri": "https://localhost:8080/"
    },
    "id": "AjLXqhsRHryv",
    "outputId": "1b1bd96b-5d5c-4706-809d-0e5c41123a9c"
   },
   "outputs": [
    {
     "name": "stdout",
     "output_type": "stream",
     "text": [
      "WARNING:tensorflow:From /usr/local/lib/python3.6/dist-packages/tensorflow/python/training/tracking/tracking.py:111: Model.state_updates (from tensorflow.python.keras.engine.training) is deprecated and will be removed in a future version.\n",
      "Instructions for updating:\n",
      "This property should not be used in TensorFlow 2.0, as updates are applied automatically.\n",
      "WARNING:tensorflow:From /usr/local/lib/python3.6/dist-packages/tensorflow/python/training/tracking/tracking.py:111: Layer.updates (from tensorflow.python.keras.engine.base_layer) is deprecated and will be removed in a future version.\n",
      "Instructions for updating:\n",
      "This property should not be used in TensorFlow 2.0, as updates are applied automatically.\n",
      "INFO:tensorflow:Assets written to: /tmp/tmpw2b53gmf/assets\n"
     ]
    }
   ],
   "source": [
    "# Konversi model.\n",
    "converter = tf.lite.TFLiteConverter.from_keras_model(model)\n",
    "tflite_model = converter.convert()\n",
    "\n",
    "# Save the model.\n",
    "with open('model.tflite', 'wb') as f:\n",
    "  f.write(tflite_model)"
   ]
  }
 ],
 "metadata": {
  "colab": {
   "collapsed_sections": [],
   "name": "Submission Akhir : Image Classification Model Deployment.ipynb",
   "provenance": []
  },
  "kernelspec": {
   "display_name": "Python 3",
   "language": "python",
   "name": "python3"
  },
  "language_info": {
   "codemirror_mode": {
    "name": "ipython",
    "version": 3
   },
   "file_extension": ".py",
   "mimetype": "text/x-python",
   "name": "python",
   "nbconvert_exporter": "python",
   "pygments_lexer": "ipython3",
   "version": "3.6.12"
  }
 },
 "nbformat": 4,
 "nbformat_minor": 1
}
